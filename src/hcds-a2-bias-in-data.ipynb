{
 "cells": [
  {
   "cell_type": "markdown",
   "metadata": {},
   "source": [
    "# Bias in Data\n",
    "### Agustin Lew\n",
    "### Data512\n",
    "### 10/17/2109"
   ]
  },
  {
   "cell_type": "code",
   "execution_count": 1,
   "metadata": {},
   "outputs": [],
   "source": [
    "# Imports the required libraries.\n",
    "import json\n",
    "import matplotlib.pyplot as plt\n",
    "import pandas as pd\n",
    "from pandas.io.json import json_normalize\n",
    "import requests\n",
    "import time\n",
    "from IPython.core.interactiveshell import InteractiveShell\n",
    "InteractiveShell.ast_node_interactivity = \"all\""
   ]
  },
  {
   "cell_type": "markdown",
   "metadata": {},
   "source": [
    "### Obtaining the data"
   ]
  },
  {
   "cell_type": "code",
   "execution_count": 8,
   "metadata": {},
   "outputs": [
    {
     "name": "stdout",
     "output_type": "stream",
     "text": [
      "/home/ablew/hcde512/hw/hw2/data-512-a2/raw_data\n",
      "/home/ablew/hcde512/hw/hw2/data-512-a2/src\n"
     ]
    }
   ],
   "source": [
    "# Reads the data located in the raw_data folder.\n",
    "%cd ../raw_data\n",
    "page_data = pd.read_csv(\"page_data.csv\")\n",
    "wpds_data = pd.read_csv(\"WPDS_2018_data.csv\")\n",
    "%cd ../src"
   ]
  },
  {
   "cell_type": "code",
   "execution_count": 9,
   "metadata": {
    "scrolled": true
   },
   "outputs": [],
   "source": [
    "# Removes templates from page_data.\n",
    "page_data = page_data[~page_data['page'].str.contains('template', case=False)]"
   ]
  },
  {
   "cell_type": "code",
   "execution_count": 10,
   "metadata": {
    "scrolled": false
   },
   "outputs": [],
   "source": [
    "# Separates countries in different lists depending on region and takes the region data away from the wpds data. \n",
    "# List of lists order: Africa, Northern America, Latin America, Asia, Europe, Oceania.\n",
    "country_list = [[],[],[],[],[],[]]\n",
    "i = -1\n",
    "for country in wpds_data['Geography']:\n",
    "    if country.isupper():\n",
    "        i += 1\n",
    "        continue\n",
    "    country_list[i].append(country)\n",
    "\n",
    "# Assign the region name to the list of countries.\n",
    "africa = country_list[0]\n",
    "north_america = country_list[1]\n",
    "latin_america = country_list[2]\n",
    "asia = country_list[3]\n",
    "europe = country_list[4]\n",
    "oceania = country_list[5]\n",
    "\n",
    "wpds_data = wpds_data[~wpds_data['Geography'].str.isupper()]"
   ]
  },
  {
   "cell_type": "code",
   "execution_count": 5,
   "metadata": {
    "scrolled": true
   },
   "outputs": [
    {
     "data": {
      "text/html": [
       "<div>\n",
       "<style scoped>\n",
       "    .dataframe tbody tr th:only-of-type {\n",
       "        vertical-align: middle;\n",
       "    }\n",
       "\n",
       "    .dataframe tbody tr th {\n",
       "        vertical-align: top;\n",
       "    }\n",
       "\n",
       "    .dataframe thead th {\n",
       "        text-align: right;\n",
       "    }\n",
       "</style>\n",
       "<table border=\"1\" class=\"dataframe\">\n",
       "  <thead>\n",
       "    <tr style=\"text-align: right;\">\n",
       "      <th></th>\n",
       "      <th>Geography</th>\n",
       "      <th>Population mid-2018 (millions)</th>\n",
       "    </tr>\n",
       "  </thead>\n",
       "  <tbody>\n",
       "    <tr>\n",
       "      <th>1</th>\n",
       "      <td>Algeria</td>\n",
       "      <td>42.7</td>\n",
       "    </tr>\n",
       "    <tr>\n",
       "      <th>2</th>\n",
       "      <td>Egypt</td>\n",
       "      <td>97</td>\n",
       "    </tr>\n",
       "    <tr>\n",
       "      <th>3</th>\n",
       "      <td>Libya</td>\n",
       "      <td>6.5</td>\n",
       "    </tr>\n",
       "    <tr>\n",
       "      <th>4</th>\n",
       "      <td>Morocco</td>\n",
       "      <td>35.2</td>\n",
       "    </tr>\n",
       "    <tr>\n",
       "      <th>5</th>\n",
       "      <td>Sudan</td>\n",
       "      <td>41.7</td>\n",
       "    </tr>\n",
       "  </tbody>\n",
       "</table>\n",
       "</div>"
      ],
      "text/plain": [
       "  Geography Population mid-2018 (millions)\n",
       "1   Algeria                           42.7\n",
       "2     Egypt                             97\n",
       "3     Libya                            6.5\n",
       "4   Morocco                           35.2\n",
       "5     Sudan                           41.7"
      ]
     },
     "execution_count": 5,
     "metadata": {},
     "output_type": "execute_result"
    }
   ],
   "source": [
    "wpds_data.head()"
   ]
  },
  {
   "cell_type": "code",
   "execution_count": 6,
   "metadata": {
    "scrolled": true
   },
   "outputs": [
    {
     "data": {
      "text/html": [
       "<div>\n",
       "<style scoped>\n",
       "    .dataframe tbody tr th:only-of-type {\n",
       "        vertical-align: middle;\n",
       "    }\n",
       "\n",
       "    .dataframe tbody tr th {\n",
       "        vertical-align: top;\n",
       "    }\n",
       "\n",
       "    .dataframe thead th {\n",
       "        text-align: right;\n",
       "    }\n",
       "</style>\n",
       "<table border=\"1\" class=\"dataframe\">\n",
       "  <thead>\n",
       "    <tr style=\"text-align: right;\">\n",
       "      <th></th>\n",
       "      <th>page</th>\n",
       "      <th>country</th>\n",
       "      <th>rev_id</th>\n",
       "    </tr>\n",
       "  </thead>\n",
       "  <tbody>\n",
       "    <tr>\n",
       "      <th>1</th>\n",
       "      <td>Bir I of Kanem</td>\n",
       "      <td>Chad</td>\n",
       "      <td>355319463</td>\n",
       "    </tr>\n",
       "    <tr>\n",
       "      <th>10</th>\n",
       "      <td>Information Minister of the Palestinian Nation...</td>\n",
       "      <td>Palestinian Territory</td>\n",
       "      <td>393276188</td>\n",
       "    </tr>\n",
       "    <tr>\n",
       "      <th>12</th>\n",
       "      <td>Yos Por</td>\n",
       "      <td>Cambodia</td>\n",
       "      <td>393822005</td>\n",
       "    </tr>\n",
       "    <tr>\n",
       "      <th>23</th>\n",
       "      <td>Julius Gregr</td>\n",
       "      <td>Czech Republic</td>\n",
       "      <td>395521877</td>\n",
       "    </tr>\n",
       "    <tr>\n",
       "      <th>24</th>\n",
       "      <td>Edvard Gregr</td>\n",
       "      <td>Czech Republic</td>\n",
       "      <td>395526568</td>\n",
       "    </tr>\n",
       "  </tbody>\n",
       "</table>\n",
       "</div>"
      ],
      "text/plain": [
       "                                                 page                country  \\\n",
       "1                                      Bir I of Kanem                   Chad   \n",
       "10  Information Minister of the Palestinian Nation...  Palestinian Territory   \n",
       "12                                            Yos Por               Cambodia   \n",
       "23                                       Julius Gregr         Czech Republic   \n",
       "24                                       Edvard Gregr         Czech Republic   \n",
       "\n",
       "       rev_id  \n",
       "1   355319463  \n",
       "10  393276188  \n",
       "12  393822005  \n",
       "23  395521877  \n",
       "24  395526568  "
      ]
     },
     "execution_count": 6,
     "metadata": {},
     "output_type": "execute_result"
    }
   ],
   "source": [
    "page_data.head()"
   ]
  },
  {
   "cell_type": "code",
   "execution_count": 7,
   "metadata": {},
   "outputs": [],
   "source": [
    "# Function for the api call, edit the headers variable with your own information.\n",
    "headers = {'User-Agent' : 'https://github.com/ablew', 'From' : 'ablew@uw.edu'}\n",
    "\n",
    "def get_ores_data(revision_ids, headers=headers):\n",
    "    \"\"\"\n",
    "    Uses reivision ids to make api requests to Ores.\n",
    "    :params:\n",
    "    :revision_ids list:\n",
    "    :headers dict:\n",
    "    returns response dict\n",
    "    \"\"\"\n",
    "    # Define the endpoint.\n",
    "    endpoint = 'https://ores.wikimedia.org/v3/scores/{project}/?models={model}&revids={revids}'\n",
    "    \n",
    "    # Specify the parameters - joining all the revision IDs together separated by | marks.\n",
    "\n",
    "    params = {'project' : 'enwiki',\n",
    "              'model'   : 'wp10',\n",
    "              'revids'  : '|'.join(str(x) for x in revision_ids)}\n",
    "    \n",
    "    api_call = requests.get(endpoint.format(**params))\n",
    "    response = api_call.json()\n",
    "    \n",
    "    return response"
   ]
  },
  {
   "cell_type": "code",
   "execution_count": 8,
   "metadata": {},
   "outputs": [],
   "source": [
    "# obtains the predictions for the data in page_data using its rev_id column.\n",
    "\n",
    "predictions = []\n",
    "start_index = 0\n",
    "\n",
    "while start_index < len(page_data):\n",
    "    \n",
    "    # indices for the list of rev_ids to feed to the get_ores_data function.\n",
    "    end_index = start_index + 100\n",
    "    \n",
    "    # if end_index is greater than the size of the data, it adjusts it.\n",
    "    if end_index > len(page_data):\n",
    "        end_index = len(page_data)\n",
    "        \n",
    "    cropped_rev_id_list = list(page_data['rev_id'][start_index:end_index])\n",
    "    \n",
    "    # Measures times so that the calls don't surpass 100 requests per second.\n",
    "    start_time = time.time()\n",
    "    api_call_result = get_ores_data(cropped_rev_id_list)\n",
    "    end_time = time.time()\n",
    "    \n",
    "    api_time = end_time - start_time\n",
    "    \n",
    "    if api_time <= 1:\n",
    "        time.sleep(1 - api_time)\n",
    "    \n",
    "    \n",
    "    # Creates list of predictions for the list of rev_ids fed into the get_ores_data function.\n",
    "    # Includes the value 'error' for when an error is encountered in the call.\n",
    "    cropped_predictions = []\n",
    "    \n",
    "    for x in cropped_rev_id_list:\n",
    "        \n",
    "        if list(api_call_result['enwiki']['scores'][str(x)]['wp10'].keys())[0] == 'error':\n",
    "            cropped_predictions.append('error')\n",
    "            continue\n",
    "        \n",
    "        cropped_predictions.append(api_call_result['enwiki']['scores'][str(x)]['wp10']['score']['prediction'])\n",
    "    \n",
    "    predictions = predictions + cropped_predictions\n",
    "    \n",
    "    start_index += 100"
   ]
  },
  {
   "cell_type": "code",
   "execution_count": 9,
   "metadata": {},
   "outputs": [
    {
     "data": {
      "text/plain": [
       "155"
      ]
     },
     "execution_count": 9,
     "metadata": {},
     "output_type": "execute_result"
    }
   ],
   "source": [
    "# There were 155 errors encountered in the api calls\n",
    "predictions.count('error')"
   ]
  },
  {
   "cell_type": "markdown",
   "metadata": {},
   "source": [
    "### Combining the data"
   ]
  },
  {
   "cell_type": "code",
   "execution_count": 10,
   "metadata": {},
   "outputs": [
    {
     "data": {
      "text/html": [
       "<div>\n",
       "<style scoped>\n",
       "    .dataframe tbody tr th:only-of-type {\n",
       "        vertical-align: middle;\n",
       "    }\n",
       "\n",
       "    .dataframe tbody tr th {\n",
       "        vertical-align: top;\n",
       "    }\n",
       "\n",
       "    .dataframe thead th {\n",
       "        text-align: right;\n",
       "    }\n",
       "</style>\n",
       "<table border=\"1\" class=\"dataframe\">\n",
       "  <thead>\n",
       "    <tr style=\"text-align: right;\">\n",
       "      <th></th>\n",
       "      <th>page</th>\n",
       "      <th>country</th>\n",
       "      <th>rev_id</th>\n",
       "      <th>prediction</th>\n",
       "    </tr>\n",
       "  </thead>\n",
       "  <tbody>\n",
       "    <tr>\n",
       "      <th>1</th>\n",
       "      <td>Bir I of Kanem</td>\n",
       "      <td>Chad</td>\n",
       "      <td>355319463</td>\n",
       "      <td>Stub</td>\n",
       "    </tr>\n",
       "    <tr>\n",
       "      <th>10</th>\n",
       "      <td>Information Minister of the Palestinian Nation...</td>\n",
       "      <td>Palestinian Territory</td>\n",
       "      <td>393276188</td>\n",
       "      <td>Stub</td>\n",
       "    </tr>\n",
       "    <tr>\n",
       "      <th>12</th>\n",
       "      <td>Yos Por</td>\n",
       "      <td>Cambodia</td>\n",
       "      <td>393822005</td>\n",
       "      <td>Stub</td>\n",
       "    </tr>\n",
       "    <tr>\n",
       "      <th>23</th>\n",
       "      <td>Julius Gregr</td>\n",
       "      <td>Czech Republic</td>\n",
       "      <td>395521877</td>\n",
       "      <td>Stub</td>\n",
       "    </tr>\n",
       "    <tr>\n",
       "      <th>24</th>\n",
       "      <td>Edvard Gregr</td>\n",
       "      <td>Czech Republic</td>\n",
       "      <td>395526568</td>\n",
       "      <td>Stub</td>\n",
       "    </tr>\n",
       "  </tbody>\n",
       "</table>\n",
       "</div>"
      ],
      "text/plain": [
       "                                                 page                country  \\\n",
       "1                                      Bir I of Kanem                   Chad   \n",
       "10  Information Minister of the Palestinian Nation...  Palestinian Territory   \n",
       "12                                            Yos Por               Cambodia   \n",
       "23                                       Julius Gregr         Czech Republic   \n",
       "24                                       Edvard Gregr         Czech Republic   \n",
       "\n",
       "       rev_id prediction  \n",
       "1   355319463       Stub  \n",
       "10  393276188       Stub  \n",
       "12  393822005       Stub  \n",
       "23  395521877       Stub  \n",
       "24  395526568       Stub  "
      ]
     },
     "execution_count": 10,
     "metadata": {},
     "output_type": "execute_result"
    }
   ],
   "source": [
    "# Predictions added to the page_data dataframe.\n",
    "page_data['prediction'] = predictions\n",
    "page_data.head()"
   ]
  },
  {
   "cell_type": "code",
   "execution_count": 11,
   "metadata": {},
   "outputs": [
    {
     "data": {
      "text/html": [
       "<div>\n",
       "<style scoped>\n",
       "    .dataframe tbody tr th:only-of-type {\n",
       "        vertical-align: middle;\n",
       "    }\n",
       "\n",
       "    .dataframe tbody tr th {\n",
       "        vertical-align: top;\n",
       "    }\n",
       "\n",
       "    .dataframe thead th {\n",
       "        text-align: right;\n",
       "    }\n",
       "</style>\n",
       "<table border=\"1\" class=\"dataframe\">\n",
       "  <thead>\n",
       "    <tr style=\"text-align: right;\">\n",
       "      <th></th>\n",
       "      <th>page</th>\n",
       "      <th>country</th>\n",
       "      <th>rev_id</th>\n",
       "      <th>prediction</th>\n",
       "      <th>Geography</th>\n",
       "      <th>Population mid-2018 (millions)</th>\n",
       "    </tr>\n",
       "  </thead>\n",
       "  <tbody>\n",
       "    <tr>\n",
       "      <th>0</th>\n",
       "      <td>Bir I of Kanem</td>\n",
       "      <td>Chad</td>\n",
       "      <td>355319463</td>\n",
       "      <td>Stub</td>\n",
       "      <td>Chad</td>\n",
       "      <td>15.4</td>\n",
       "    </tr>\n",
       "    <tr>\n",
       "      <th>1</th>\n",
       "      <td>Information Minister of the Palestinian Nation...</td>\n",
       "      <td>Palestinian Territory</td>\n",
       "      <td>393276188</td>\n",
       "      <td>Stub</td>\n",
       "      <td>NaN</td>\n",
       "      <td>NaN</td>\n",
       "    </tr>\n",
       "    <tr>\n",
       "      <th>2</th>\n",
       "      <td>Yos Por</td>\n",
       "      <td>Cambodia</td>\n",
       "      <td>393822005</td>\n",
       "      <td>Stub</td>\n",
       "      <td>Cambodia</td>\n",
       "      <td>16</td>\n",
       "    </tr>\n",
       "    <tr>\n",
       "      <th>3</th>\n",
       "      <td>Julius Gregr</td>\n",
       "      <td>Czech Republic</td>\n",
       "      <td>395521877</td>\n",
       "      <td>Stub</td>\n",
       "      <td>NaN</td>\n",
       "      <td>NaN</td>\n",
       "    </tr>\n",
       "    <tr>\n",
       "      <th>4</th>\n",
       "      <td>Edvard Gregr</td>\n",
       "      <td>Czech Republic</td>\n",
       "      <td>395526568</td>\n",
       "      <td>Stub</td>\n",
       "      <td>NaN</td>\n",
       "      <td>NaN</td>\n",
       "    </tr>\n",
       "  </tbody>\n",
       "</table>\n",
       "</div>"
      ],
      "text/plain": [
       "                                                page                country  \\\n",
       "0                                     Bir I of Kanem                   Chad   \n",
       "1  Information Minister of the Palestinian Nation...  Palestinian Territory   \n",
       "2                                            Yos Por               Cambodia   \n",
       "3                                       Julius Gregr         Czech Republic   \n",
       "4                                       Edvard Gregr         Czech Republic   \n",
       "\n",
       "      rev_id prediction Geography Population mid-2018 (millions)  \n",
       "0  355319463       Stub      Chad                           15.4  \n",
       "1  393276188       Stub       NaN                            NaN  \n",
       "2  393822005       Stub  Cambodia                             16  \n",
       "3  395521877       Stub       NaN                            NaN  \n",
       "4  395526568       Stub       NaN                            NaN  "
      ]
     },
     "execution_count": 11,
     "metadata": {},
     "output_type": "execute_result"
    }
   ],
   "source": [
    "# Left joins page_data with wpds_data on country\n",
    "joined_raw_data = pd.merge(page_data, wpds_data, left_on='country', right_on='Geography', how='left')\n",
    "joined_raw_data.head()"
   ]
  },
  {
   "cell_type": "code",
   "execution_count": 12,
   "metadata": {
    "scrolled": true
   },
   "outputs": [
    {
     "data": {
      "text/html": [
       "<div>\n",
       "<style scoped>\n",
       "    .dataframe tbody tr th:only-of-type {\n",
       "        vertical-align: middle;\n",
       "    }\n",
       "\n",
       "    .dataframe tbody tr th {\n",
       "        vertical-align: top;\n",
       "    }\n",
       "\n",
       "    .dataframe thead th {\n",
       "        text-align: right;\n",
       "    }\n",
       "</style>\n",
       "<table border=\"1\" class=\"dataframe\">\n",
       "  <thead>\n",
       "    <tr style=\"text-align: right;\">\n",
       "      <th></th>\n",
       "      <th>page</th>\n",
       "      <th>country</th>\n",
       "      <th>rev_id</th>\n",
       "      <th>prediction</th>\n",
       "      <th>Geography</th>\n",
       "      <th>Population mid-2018 (millions)</th>\n",
       "    </tr>\n",
       "  </thead>\n",
       "  <tbody>\n",
       "    <tr>\n",
       "      <th>1</th>\n",
       "      <td>Information Minister of the Palestinian Nation...</td>\n",
       "      <td>Palestinian Territory</td>\n",
       "      <td>393276188</td>\n",
       "      <td>Stub</td>\n",
       "      <td>NaN</td>\n",
       "      <td>NaN</td>\n",
       "    </tr>\n",
       "    <tr>\n",
       "      <th>3</th>\n",
       "      <td>Julius Gregr</td>\n",
       "      <td>Czech Republic</td>\n",
       "      <td>395521877</td>\n",
       "      <td>Stub</td>\n",
       "      <td>NaN</td>\n",
       "      <td>NaN</td>\n",
       "    </tr>\n",
       "    <tr>\n",
       "      <th>4</th>\n",
       "      <td>Edvard Gregr</td>\n",
       "      <td>Czech Republic</td>\n",
       "      <td>395526568</td>\n",
       "      <td>Stub</td>\n",
       "      <td>NaN</td>\n",
       "      <td>NaN</td>\n",
       "    </tr>\n",
       "    <tr>\n",
       "      <th>19</th>\n",
       "      <td>Presidents of the General Council of French Gu...</td>\n",
       "      <td>French Guiana</td>\n",
       "      <td>546364151</td>\n",
       "      <td>Stub</td>\n",
       "      <td>NaN</td>\n",
       "      <td>NaN</td>\n",
       "    </tr>\n",
       "    <tr>\n",
       "      <th>31</th>\n",
       "      <td>Timoteo Menéndez</td>\n",
       "      <td>Salvadoran</td>\n",
       "      <td>566504165</td>\n",
       "      <td>Start</td>\n",
       "      <td>NaN</td>\n",
       "      <td>NaN</td>\n",
       "    </tr>\n",
       "  </tbody>\n",
       "</table>\n",
       "</div>"
      ],
      "text/plain": [
       "                                                 page                country  \\\n",
       "1   Information Minister of the Palestinian Nation...  Palestinian Territory   \n",
       "3                                        Julius Gregr         Czech Republic   \n",
       "4                                        Edvard Gregr         Czech Republic   \n",
       "19  Presidents of the General Council of French Gu...          French Guiana   \n",
       "31                                   Timoteo Menéndez             Salvadoran   \n",
       "\n",
       "       rev_id prediction Geography Population mid-2018 (millions)  \n",
       "1   393276188       Stub       NaN                            NaN  \n",
       "3   395521877       Stub       NaN                            NaN  \n",
       "4   395526568       Stub       NaN                            NaN  \n",
       "19  546364151       Stub       NaN                            NaN  \n",
       "31  566504165      Start       NaN                            NaN  "
      ]
     },
     "execution_count": 12,
     "metadata": {},
     "output_type": "execute_result"
    }
   ],
   "source": [
    "# Creates dataframe for the rows that had no matches when joining and saves it into a .csv file.\n",
    "wp_wpds_countries_no_match = joined_raw_data[pd.isnull(joined_raw_data).any(axis=1)]\n",
    "wp_wpds_countries_no_match.head()\n",
    "wp_wpds_countries_no_match.to_csv('wp_wpds_countries-no_match.csv')"
   ]
  },
  {
   "cell_type": "markdown",
   "metadata": {},
   "source": [
    "### Cleaning the data"
   ]
  },
  {
   "cell_type": "code",
   "execution_count": 13,
   "metadata": {},
   "outputs": [
    {
     "data": {
      "text/html": [
       "<div>\n",
       "<style scoped>\n",
       "    .dataframe tbody tr th:only-of-type {\n",
       "        vertical-align: middle;\n",
       "    }\n",
       "\n",
       "    .dataframe tbody tr th {\n",
       "        vertical-align: top;\n",
       "    }\n",
       "\n",
       "    .dataframe thead th {\n",
       "        text-align: right;\n",
       "    }\n",
       "</style>\n",
       "<table border=\"1\" class=\"dataframe\">\n",
       "  <thead>\n",
       "    <tr style=\"text-align: right;\">\n",
       "      <th></th>\n",
       "      <th>country</th>\n",
       "      <th>article_name</th>\n",
       "      <th>revision_id</th>\n",
       "      <th>article_quality</th>\n",
       "      <th>population</th>\n",
       "    </tr>\n",
       "  </thead>\n",
       "  <tbody>\n",
       "    <tr>\n",
       "      <th>0</th>\n",
       "      <td>Chad</td>\n",
       "      <td>Bir I of Kanem</td>\n",
       "      <td>355319463</td>\n",
       "      <td>Stub</td>\n",
       "      <td>15400000.0</td>\n",
       "    </tr>\n",
       "    <tr>\n",
       "      <th>2</th>\n",
       "      <td>Cambodia</td>\n",
       "      <td>Yos Por</td>\n",
       "      <td>393822005</td>\n",
       "      <td>Stub</td>\n",
       "      <td>16000000.0</td>\n",
       "    </tr>\n",
       "    <tr>\n",
       "      <th>5</th>\n",
       "      <td>Canada</td>\n",
       "      <td>Robert Douglas Cook</td>\n",
       "      <td>401577829</td>\n",
       "      <td>Stub</td>\n",
       "      <td>37200000.0</td>\n",
       "    </tr>\n",
       "    <tr>\n",
       "      <th>6</th>\n",
       "      <td>Egypt</td>\n",
       "      <td>List of Grand Viziers of Egypt</td>\n",
       "      <td>442937236</td>\n",
       "      <td>Stub</td>\n",
       "      <td>97000000.0</td>\n",
       "    </tr>\n",
       "    <tr>\n",
       "      <th>7</th>\n",
       "      <td>Pakistan</td>\n",
       "      <td>Sehba Musharraf</td>\n",
       "      <td>448555418</td>\n",
       "      <td>Stub</td>\n",
       "      <td>200600000.0</td>\n",
       "    </tr>\n",
       "  </tbody>\n",
       "</table>\n",
       "</div>"
      ],
      "text/plain": [
       "    country                    article_name  revision_id article_quality  \\\n",
       "0      Chad                  Bir I of Kanem    355319463            Stub   \n",
       "2  Cambodia                         Yos Por    393822005            Stub   \n",
       "5    Canada             Robert Douglas Cook    401577829            Stub   \n",
       "6     Egypt  List of Grand Viziers of Egypt    442937236            Stub   \n",
       "7  Pakistan                 Sehba Musharraf    448555418            Stub   \n",
       "\n",
       "    population  \n",
       "0   15400000.0  \n",
       "2   16000000.0  \n",
       "5   37200000.0  \n",
       "6   97000000.0  \n",
       "7  200600000.0  "
      ]
     },
     "execution_count": 13,
     "metadata": {},
     "output_type": "execute_result"
    }
   ],
   "source": [
    "# Creates dataframe for the remaining data, reorders and renames the columns.\n",
    "col_names = ['country', 'page', 'rev_id', 'prediction', 'Population mid-2018 (millions)']\n",
    "new_col_names = ['country', 'article_name', 'revision_id', 'article_quality', 'population']\n",
    "\n",
    "wp_wpds_politicians_by_country = joined_raw_data[~pd.isnull(joined_raw_data).any(axis=1)]\n",
    "wp_wpds_politicians_by_country = wp_wpds_politicians_by_country[col_names]\n",
    "wp_wpds_politicians_by_country.columns = new_col_names\n",
    "\n",
    "# Finds articles with errors in their api calls and saves them as a .csv file\n",
    "wp_wpds_api_call_errors = wp_wpds_politicians_by_country[wp_wpds_politicians_by_country['article_quality'].str.contains('error')]\n",
    "wp_wpds_api_call_errors.to_csv('wp_wpds_api_call_errors.csv')\n",
    "\n",
    "# Takes the remainder of the data with no errors\n",
    "wp_wpds_politicians_by_country = wp_wpds_politicians_by_country[~wp_wpds_politicians_by_country['article_quality'].str.contains('error')]\n",
    "\n",
    "# Converts population column from str to int.\n",
    "wp_wpds_politicians_by_country['population'] = wp_wpds_politicians_by_country['population'].str.replace(',', '')\n",
    "wp_wpds_politicians_by_country['population'] = pd.to_numeric(wp_wpds_politicians_by_country['population'])\n",
    "wp_wpds_politicians_by_country['population'] = wp_wpds_politicians_by_country['population'] * 1000000 \n",
    "wp_wpds_politicians_by_country.head()\n",
    "\n",
    "# Exports to .csv file.\n",
    "wp_wpds_politicians_by_country.to_csv('wp_wpds_politicians_by_country.csv')"
   ]
  },
  {
   "cell_type": "markdown",
   "metadata": {},
   "source": [
    "### Analysis"
   ]
  },
  {
   "cell_type": "code",
   "execution_count": 3,
   "metadata": {},
   "outputs": [
    {
     "data": {
      "text/html": [
       "<div>\n",
       "<style scoped>\n",
       "    .dataframe tbody tr th:only-of-type {\n",
       "        vertical-align: middle;\n",
       "    }\n",
       "\n",
       "    .dataframe tbody tr th {\n",
       "        vertical-align: top;\n",
       "    }\n",
       "\n",
       "    .dataframe thead th {\n",
       "        text-align: right;\n",
       "    }\n",
       "</style>\n",
       "<table border=\"1\" class=\"dataframe\">\n",
       "  <thead>\n",
       "    <tr style=\"text-align: right;\">\n",
       "      <th></th>\n",
       "      <th>country</th>\n",
       "      <th>num_article</th>\n",
       "    </tr>\n",
       "  </thead>\n",
       "  <tbody>\n",
       "    <tr>\n",
       "      <th>0</th>\n",
       "      <td>Afghanistan</td>\n",
       "      <td>320</td>\n",
       "    </tr>\n",
       "    <tr>\n",
       "      <th>1</th>\n",
       "      <td>Albania</td>\n",
       "      <td>457</td>\n",
       "    </tr>\n",
       "    <tr>\n",
       "      <th>2</th>\n",
       "      <td>Algeria</td>\n",
       "      <td>116</td>\n",
       "    </tr>\n",
       "    <tr>\n",
       "      <th>3</th>\n",
       "      <td>Andorra</td>\n",
       "      <td>34</td>\n",
       "    </tr>\n",
       "    <tr>\n",
       "      <th>4</th>\n",
       "      <td>Angola</td>\n",
       "      <td>106</td>\n",
       "    </tr>\n",
       "  </tbody>\n",
       "</table>\n",
       "</div>"
      ],
      "text/plain": [
       "       country  num_article\n",
       "0  Afghanistan          320\n",
       "1      Albania          457\n",
       "2      Algeria          116\n",
       "3      Andorra           34\n",
       "4       Angola          106"
      ]
     },
     "execution_count": 3,
     "metadata": {},
     "output_type": "execute_result"
    }
   ],
   "source": [
    "# Obtains the numbers of articles per country.\n",
    "count_table = wp_wpds_politicians_by_country.groupby(['country']).count()\n",
    "country_data = pd.DataFrame(count_table['article_name'])\n",
    "country_data = country_data.reset_index()\n",
    "country_data.columns = ['country', 'num_article']\n",
    "country_data.head()"
   ]
  },
  {
   "cell_type": "code",
   "execution_count": 4,
   "metadata": {
    "scrolled": true
   },
   "outputs": [
    {
     "data": {
      "text/html": [
       "<div>\n",
       "<style scoped>\n",
       "    .dataframe tbody tr th:only-of-type {\n",
       "        vertical-align: middle;\n",
       "    }\n",
       "\n",
       "    .dataframe tbody tr th {\n",
       "        vertical-align: top;\n",
       "    }\n",
       "\n",
       "    .dataframe thead th {\n",
       "        text-align: right;\n",
       "    }\n",
       "</style>\n",
       "<table border=\"1\" class=\"dataframe\">\n",
       "  <thead>\n",
       "    <tr style=\"text-align: right;\">\n",
       "      <th></th>\n",
       "      <th>country</th>\n",
       "      <th>num_article</th>\n",
       "      <th>population</th>\n",
       "      <th>coverage</th>\n",
       "    </tr>\n",
       "  </thead>\n",
       "  <tbody>\n",
       "    <tr>\n",
       "      <th>0</th>\n",
       "      <td>Afghanistan</td>\n",
       "      <td>320</td>\n",
       "      <td>36500000.0</td>\n",
       "      <td>0.000877</td>\n",
       "    </tr>\n",
       "    <tr>\n",
       "      <th>1</th>\n",
       "      <td>Albania</td>\n",
       "      <td>457</td>\n",
       "      <td>2900000.0</td>\n",
       "      <td>0.015759</td>\n",
       "    </tr>\n",
       "    <tr>\n",
       "      <th>2</th>\n",
       "      <td>Algeria</td>\n",
       "      <td>116</td>\n",
       "      <td>42700000.0</td>\n",
       "      <td>0.000272</td>\n",
       "    </tr>\n",
       "    <tr>\n",
       "      <th>3</th>\n",
       "      <td>Andorra</td>\n",
       "      <td>34</td>\n",
       "      <td>80000.0</td>\n",
       "      <td>0.042500</td>\n",
       "    </tr>\n",
       "    <tr>\n",
       "      <th>4</th>\n",
       "      <td>Angola</td>\n",
       "      <td>106</td>\n",
       "      <td>30400000.0</td>\n",
       "      <td>0.000349</td>\n",
       "    </tr>\n",
       "  </tbody>\n",
       "</table>\n",
       "</div>"
      ],
      "text/plain": [
       "       country  num_article  population  coverage\n",
       "0  Afghanistan          320  36500000.0  0.000877\n",
       "1      Albania          457   2900000.0  0.015759\n",
       "2      Algeria          116  42700000.0  0.000272\n",
       "3      Andorra           34     80000.0  0.042500\n",
       "4       Angola          106  30400000.0  0.000349"
      ]
     },
     "execution_count": 4,
     "metadata": {},
     "output_type": "execute_result"
    }
   ],
   "source": [
    "# Adds population to the country_data dataframe.\n",
    "\n",
    "# Creates dataframe with country and population.\n",
    "population_data = wp_wpds_politicians_by_country[['country', 'population']]\n",
    "population_data = population_data.drop_duplicates()\n",
    "\n",
    "# Joins population dataframe to country_data.\n",
    "country_data = pd.merge(country_data, population_data, on='country', how='left') \n",
    "\n",
    "# Coverage: number of articles divided by population. Multiplied by 100 for the percentage\n",
    "country_data['coverage'] = (country_data['num_article'] / country_data['population']) * 100\n",
    "country_data.head()"
   ]
  },
  {
   "cell_type": "code",
   "execution_count": 5,
   "metadata": {},
   "outputs": [
    {
     "data": {
      "text/html": [
       "<div>\n",
       "<style scoped>\n",
       "    .dataframe tbody tr th:only-of-type {\n",
       "        vertical-align: middle;\n",
       "    }\n",
       "\n",
       "    .dataframe tbody tr th {\n",
       "        vertical-align: top;\n",
       "    }\n",
       "\n",
       "    .dataframe thead th {\n",
       "        text-align: right;\n",
       "    }\n",
       "</style>\n",
       "<table border=\"1\" class=\"dataframe\">\n",
       "  <thead>\n",
       "    <tr style=\"text-align: right;\">\n",
       "      <th></th>\n",
       "      <th>country</th>\n",
       "      <th>num_article</th>\n",
       "      <th>population</th>\n",
       "      <th>coverage</th>\n",
       "      <th>B</th>\n",
       "      <th>C</th>\n",
       "      <th>FA</th>\n",
       "      <th>GA</th>\n",
       "      <th>Start</th>\n",
       "      <th>Stub</th>\n",
       "    </tr>\n",
       "  </thead>\n",
       "  <tbody>\n",
       "    <tr>\n",
       "      <th>0</th>\n",
       "      <td>Afghanistan</td>\n",
       "      <td>320</td>\n",
       "      <td>36500000.0</td>\n",
       "      <td>0.000877</td>\n",
       "      <td>8.0</td>\n",
       "      <td>49.0</td>\n",
       "      <td>1.0</td>\n",
       "      <td>11.0</td>\n",
       "      <td>98.0</td>\n",
       "      <td>153.0</td>\n",
       "    </tr>\n",
       "    <tr>\n",
       "      <th>1</th>\n",
       "      <td>Albania</td>\n",
       "      <td>457</td>\n",
       "      <td>2900000.0</td>\n",
       "      <td>0.015759</td>\n",
       "      <td>3.0</td>\n",
       "      <td>62.0</td>\n",
       "      <td>0.0</td>\n",
       "      <td>3.0</td>\n",
       "      <td>147.0</td>\n",
       "      <td>242.0</td>\n",
       "    </tr>\n",
       "    <tr>\n",
       "      <th>2</th>\n",
       "      <td>Algeria</td>\n",
       "      <td>116</td>\n",
       "      <td>42700000.0</td>\n",
       "      <td>0.000272</td>\n",
       "      <td>2.0</td>\n",
       "      <td>11.0</td>\n",
       "      <td>0.0</td>\n",
       "      <td>2.0</td>\n",
       "      <td>44.0</td>\n",
       "      <td>57.0</td>\n",
       "    </tr>\n",
       "    <tr>\n",
       "      <th>3</th>\n",
       "      <td>Andorra</td>\n",
       "      <td>34</td>\n",
       "      <td>80000.0</td>\n",
       "      <td>0.042500</td>\n",
       "      <td>0.0</td>\n",
       "      <td>2.0</td>\n",
       "      <td>0.0</td>\n",
       "      <td>0.0</td>\n",
       "      <td>8.0</td>\n",
       "      <td>24.0</td>\n",
       "    </tr>\n",
       "    <tr>\n",
       "      <th>4</th>\n",
       "      <td>Angola</td>\n",
       "      <td>106</td>\n",
       "      <td>30400000.0</td>\n",
       "      <td>0.000349</td>\n",
       "      <td>2.0</td>\n",
       "      <td>9.0</td>\n",
       "      <td>0.0</td>\n",
       "      <td>0.0</td>\n",
       "      <td>21.0</td>\n",
       "      <td>74.0</td>\n",
       "    </tr>\n",
       "  </tbody>\n",
       "</table>\n",
       "</div>"
      ],
      "text/plain": [
       "       country  num_article  population  coverage    B     C   FA    GA  \\\n",
       "0  Afghanistan          320  36500000.0  0.000877  8.0  49.0  1.0  11.0   \n",
       "1      Albania          457   2900000.0  0.015759  3.0  62.0  0.0   3.0   \n",
       "2      Algeria          116  42700000.0  0.000272  2.0  11.0  0.0   2.0   \n",
       "3      Andorra           34     80000.0  0.042500  0.0   2.0  0.0   0.0   \n",
       "4       Angola          106  30400000.0  0.000349  2.0   9.0  0.0   0.0   \n",
       "\n",
       "   Start   Stub  \n",
       "0   98.0  153.0  \n",
       "1  147.0  242.0  \n",
       "2   44.0   57.0  \n",
       "3    8.0   24.0  \n",
       "4   21.0   74.0  "
      ]
     },
     "execution_count": 5,
     "metadata": {},
     "output_type": "execute_result"
    }
   ],
   "source": [
    "# Adds a column for each value in article_quality to country_data.\n",
    "\n",
    "# Creates a dataframe obtained from grouping by country and article quality.\n",
    "article_quality_by_country = wp_wpds_politicians_by_country.groupby(['country','article_quality']).size()\n",
    "article_quality_by_country = pd.DataFrame(article_quality_by_country)\n",
    "article_quality_by_country = article_quality_by_country.reset_index()\n",
    "article_quality_by_country.columns = ['country', 'article_quality', 'count']\n",
    "# Pivots data to obtain a column for each value.\n",
    "article_quality_by_country = article_quality_by_country.pivot(index='country', columns='article_quality', values='count')\n",
    "article_quality_by_country = article_quality_by_country.fillna(0)\n",
    "article_quality_by_country = article_quality_by_country.reset_index()\n",
    "# Joins the dataframe to country_data\n",
    "country_data = pd.merge(country_data, article_quality_by_country, on='country', how='left')\n",
    "country_data.head()"
   ]
  },
  {
   "cell_type": "code",
   "execution_count": 6,
   "metadata": {},
   "outputs": [
    {
     "data": {
      "text/html": [
       "<div>\n",
       "<style scoped>\n",
       "    .dataframe tbody tr th:only-of-type {\n",
       "        vertical-align: middle;\n",
       "    }\n",
       "\n",
       "    .dataframe tbody tr th {\n",
       "        vertical-align: top;\n",
       "    }\n",
       "\n",
       "    .dataframe thead th {\n",
       "        text-align: right;\n",
       "    }\n",
       "</style>\n",
       "<table border=\"1\" class=\"dataframe\">\n",
       "  <thead>\n",
       "    <tr style=\"text-align: right;\">\n",
       "      <th></th>\n",
       "      <th>country</th>\n",
       "      <th>num_article</th>\n",
       "      <th>population</th>\n",
       "      <th>coverage</th>\n",
       "      <th>B</th>\n",
       "      <th>C</th>\n",
       "      <th>FA</th>\n",
       "      <th>GA</th>\n",
       "      <th>Start</th>\n",
       "      <th>Stub</th>\n",
       "      <th>high_quality</th>\n",
       "    </tr>\n",
       "  </thead>\n",
       "  <tbody>\n",
       "    <tr>\n",
       "      <th>0</th>\n",
       "      <td>Afghanistan</td>\n",
       "      <td>320</td>\n",
       "      <td>36500000.0</td>\n",
       "      <td>0.000877</td>\n",
       "      <td>8.0</td>\n",
       "      <td>49.0</td>\n",
       "      <td>1.0</td>\n",
       "      <td>11.0</td>\n",
       "      <td>98.0</td>\n",
       "      <td>153.0</td>\n",
       "      <td>3.750000</td>\n",
       "    </tr>\n",
       "    <tr>\n",
       "      <th>1</th>\n",
       "      <td>Albania</td>\n",
       "      <td>457</td>\n",
       "      <td>2900000.0</td>\n",
       "      <td>0.015759</td>\n",
       "      <td>3.0</td>\n",
       "      <td>62.0</td>\n",
       "      <td>0.0</td>\n",
       "      <td>3.0</td>\n",
       "      <td>147.0</td>\n",
       "      <td>242.0</td>\n",
       "      <td>0.656455</td>\n",
       "    </tr>\n",
       "    <tr>\n",
       "      <th>2</th>\n",
       "      <td>Algeria</td>\n",
       "      <td>116</td>\n",
       "      <td>42700000.0</td>\n",
       "      <td>0.000272</td>\n",
       "      <td>2.0</td>\n",
       "      <td>11.0</td>\n",
       "      <td>0.0</td>\n",
       "      <td>2.0</td>\n",
       "      <td>44.0</td>\n",
       "      <td>57.0</td>\n",
       "      <td>1.724138</td>\n",
       "    </tr>\n",
       "    <tr>\n",
       "      <th>3</th>\n",
       "      <td>Andorra</td>\n",
       "      <td>34</td>\n",
       "      <td>80000.0</td>\n",
       "      <td>0.042500</td>\n",
       "      <td>0.0</td>\n",
       "      <td>2.0</td>\n",
       "      <td>0.0</td>\n",
       "      <td>0.0</td>\n",
       "      <td>8.0</td>\n",
       "      <td>24.0</td>\n",
       "      <td>0.000000</td>\n",
       "    </tr>\n",
       "    <tr>\n",
       "      <th>4</th>\n",
       "      <td>Angola</td>\n",
       "      <td>106</td>\n",
       "      <td>30400000.0</td>\n",
       "      <td>0.000349</td>\n",
       "      <td>2.0</td>\n",
       "      <td>9.0</td>\n",
       "      <td>0.0</td>\n",
       "      <td>0.0</td>\n",
       "      <td>21.0</td>\n",
       "      <td>74.0</td>\n",
       "      <td>0.000000</td>\n",
       "    </tr>\n",
       "  </tbody>\n",
       "</table>\n",
       "</div>"
      ],
      "text/plain": [
       "       country  num_article  population  coverage    B     C   FA    GA  \\\n",
       "0  Afghanistan          320  36500000.0  0.000877  8.0  49.0  1.0  11.0   \n",
       "1      Albania          457   2900000.0  0.015759  3.0  62.0  0.0   3.0   \n",
       "2      Algeria          116  42700000.0  0.000272  2.0  11.0  0.0   2.0   \n",
       "3      Andorra           34     80000.0  0.042500  0.0   2.0  0.0   0.0   \n",
       "4       Angola          106  30400000.0  0.000349  2.0   9.0  0.0   0.0   \n",
       "\n",
       "   Start   Stub  high_quality  \n",
       "0   98.0  153.0      3.750000  \n",
       "1  147.0  242.0      0.656455  \n",
       "2   44.0   57.0      1.724138  \n",
       "3    8.0   24.0      0.000000  \n",
       "4   21.0   74.0      0.000000  "
      ]
     },
     "execution_count": 6,
     "metadata": {},
     "output_type": "execute_result"
    }
   ],
   "source": [
    "# Creates a column for the proportion of high quality articles (rated FA and GA).\n",
    "country_data['high_quality'] = ((country_data['FA'] + country_data['GA']) / country_data['num_article']) * 100\n",
    "country_data.head()"
   ]
  },
  {
   "cell_type": "code",
   "execution_count": 11,
   "metadata": {},
   "outputs": [
    {
     "data": {
      "text/html": [
       "<div>\n",
       "<style scoped>\n",
       "    .dataframe tbody tr th:only-of-type {\n",
       "        vertical-align: middle;\n",
       "    }\n",
       "\n",
       "    .dataframe tbody tr th {\n",
       "        vertical-align: top;\n",
       "    }\n",
       "\n",
       "    .dataframe thead th {\n",
       "        text-align: right;\n",
       "    }\n",
       "</style>\n",
       "<table border=\"1\" class=\"dataframe\">\n",
       "  <thead>\n",
       "    <tr style=\"text-align: right;\">\n",
       "      <th></th>\n",
       "      <th>country</th>\n",
       "      <th>num_article</th>\n",
       "      <th>population</th>\n",
       "      <th>coverage</th>\n",
       "      <th>B</th>\n",
       "      <th>C</th>\n",
       "      <th>FA</th>\n",
       "      <th>GA</th>\n",
       "      <th>Start</th>\n",
       "      <th>Stub</th>\n",
       "      <th>high_quality</th>\n",
       "      <th>region</th>\n",
       "    </tr>\n",
       "  </thead>\n",
       "  <tbody>\n",
       "    <tr>\n",
       "      <th>0</th>\n",
       "      <td>Afghanistan</td>\n",
       "      <td>320</td>\n",
       "      <td>36500000.0</td>\n",
       "      <td>0.000877</td>\n",
       "      <td>8.0</td>\n",
       "      <td>49.0</td>\n",
       "      <td>1.0</td>\n",
       "      <td>11.0</td>\n",
       "      <td>98.0</td>\n",
       "      <td>153.0</td>\n",
       "      <td>3.750000</td>\n",
       "      <td>ASIA</td>\n",
       "    </tr>\n",
       "    <tr>\n",
       "      <th>1</th>\n",
       "      <td>Albania</td>\n",
       "      <td>457</td>\n",
       "      <td>2900000.0</td>\n",
       "      <td>0.015759</td>\n",
       "      <td>3.0</td>\n",
       "      <td>62.0</td>\n",
       "      <td>0.0</td>\n",
       "      <td>3.0</td>\n",
       "      <td>147.0</td>\n",
       "      <td>242.0</td>\n",
       "      <td>0.656455</td>\n",
       "      <td>EUROPE</td>\n",
       "    </tr>\n",
       "    <tr>\n",
       "      <th>2</th>\n",
       "      <td>Algeria</td>\n",
       "      <td>116</td>\n",
       "      <td>42700000.0</td>\n",
       "      <td>0.000272</td>\n",
       "      <td>2.0</td>\n",
       "      <td>11.0</td>\n",
       "      <td>0.0</td>\n",
       "      <td>2.0</td>\n",
       "      <td>44.0</td>\n",
       "      <td>57.0</td>\n",
       "      <td>1.724138</td>\n",
       "      <td>AFRICA</td>\n",
       "    </tr>\n",
       "    <tr>\n",
       "      <th>3</th>\n",
       "      <td>Andorra</td>\n",
       "      <td>34</td>\n",
       "      <td>80000.0</td>\n",
       "      <td>0.042500</td>\n",
       "      <td>0.0</td>\n",
       "      <td>2.0</td>\n",
       "      <td>0.0</td>\n",
       "      <td>0.0</td>\n",
       "      <td>8.0</td>\n",
       "      <td>24.0</td>\n",
       "      <td>0.000000</td>\n",
       "      <td>EUROPE</td>\n",
       "    </tr>\n",
       "    <tr>\n",
       "      <th>4</th>\n",
       "      <td>Angola</td>\n",
       "      <td>106</td>\n",
       "      <td>30400000.0</td>\n",
       "      <td>0.000349</td>\n",
       "      <td>2.0</td>\n",
       "      <td>9.0</td>\n",
       "      <td>0.0</td>\n",
       "      <td>0.0</td>\n",
       "      <td>21.0</td>\n",
       "      <td>74.0</td>\n",
       "      <td>0.000000</td>\n",
       "      <td>AFRICA</td>\n",
       "    </tr>\n",
       "  </tbody>\n",
       "</table>\n",
       "</div>"
      ],
      "text/plain": [
       "       country  num_article  population  coverage    B     C   FA    GA  \\\n",
       "0  Afghanistan          320  36500000.0  0.000877  8.0  49.0  1.0  11.0   \n",
       "1      Albania          457   2900000.0  0.015759  3.0  62.0  0.0   3.0   \n",
       "2      Algeria          116  42700000.0  0.000272  2.0  11.0  0.0   2.0   \n",
       "3      Andorra           34     80000.0  0.042500  0.0   2.0  0.0   0.0   \n",
       "4       Angola          106  30400000.0  0.000349  2.0   9.0  0.0   0.0   \n",
       "\n",
       "   Start   Stub  high_quality  region  \n",
       "0   98.0  153.0      3.750000    ASIA  \n",
       "1  147.0  242.0      0.656455  EUROPE  \n",
       "2   44.0   57.0      1.724138  AFRICA  \n",
       "3    8.0   24.0      0.000000  EUROPE  \n",
       "4   21.0   74.0      0.000000  AFRICA  "
      ]
     },
     "execution_count": 11,
     "metadata": {},
     "output_type": "execute_result"
    }
   ],
   "source": [
    "# Creates a column for region in the country_data dataframe\n",
    "region = []\n",
    "for country in country_data['country']:\n",
    "    if country in africa:\n",
    "        region.append('AFRICA')\n",
    "    elif country in north_america:\n",
    "        region.append('NORTHERN AMERICA')\n",
    "    elif country in latin_america:\n",
    "        region.append('LATIN AMERICA AND THE CARIBBEAN')\n",
    "    elif country in asia:\n",
    "        region.append('ASIA')\n",
    "    elif country in europe:\n",
    "        region.append('EUROPE')\n",
    "    elif country in oceania:\n",
    "        region.append('OCEANIA')\n",
    "    else:\n",
    "        print('error')\n",
    "        break\n",
    "        \n",
    "country_data['region'] = region\n",
    "country_data.head()"
   ]
  },
  {
   "cell_type": "code",
   "execution_count": 12,
   "metadata": {},
   "outputs": [
    {
     "data": {
      "text/html": [
       "<div>\n",
       "<style scoped>\n",
       "    .dataframe tbody tr th:only-of-type {\n",
       "        vertical-align: middle;\n",
       "    }\n",
       "\n",
       "    .dataframe tbody tr th {\n",
       "        vertical-align: top;\n",
       "    }\n",
       "\n",
       "    .dataframe thead th {\n",
       "        text-align: right;\n",
       "    }\n",
       "</style>\n",
       "<table border=\"1\" class=\"dataframe\">\n",
       "  <thead>\n",
       "    <tr style=\"text-align: right;\">\n",
       "      <th></th>\n",
       "      <th>region</th>\n",
       "      <th>num_article</th>\n",
       "      <th>population</th>\n",
       "      <th>coverage</th>\n",
       "      <th>B</th>\n",
       "      <th>C</th>\n",
       "      <th>FA</th>\n",
       "      <th>GA</th>\n",
       "      <th>Start</th>\n",
       "      <th>Stub</th>\n",
       "      <th>high_quality</th>\n",
       "    </tr>\n",
       "  </thead>\n",
       "  <tbody>\n",
       "    <tr>\n",
       "      <th>0</th>\n",
       "      <td>AFRICA</td>\n",
       "      <td>6851</td>\n",
       "      <td>1.172400e+09</td>\n",
       "      <td>0.000584</td>\n",
       "      <td>85.0</td>\n",
       "      <td>895.0</td>\n",
       "      <td>30.0</td>\n",
       "      <td>95.0</td>\n",
       "      <td>2250.0</td>\n",
       "      <td>3496.0</td>\n",
       "      <td>1.824551</td>\n",
       "    </tr>\n",
       "    <tr>\n",
       "      <th>1</th>\n",
       "      <td>ASIA</td>\n",
       "      <td>11531</td>\n",
       "      <td>4.513100e+09</td>\n",
       "      <td>0.000256</td>\n",
       "      <td>226.0</td>\n",
       "      <td>1539.0</td>\n",
       "      <td>56.0</td>\n",
       "      <td>254.0</td>\n",
       "      <td>3669.0</td>\n",
       "      <td>5787.0</td>\n",
       "      <td>2.688405</td>\n",
       "    </tr>\n",
       "    <tr>\n",
       "      <th>2</th>\n",
       "      <td>EUROPE</td>\n",
       "      <td>15864</td>\n",
       "      <td>7.345900e+08</td>\n",
       "      <td>0.002160</td>\n",
       "      <td>257.0</td>\n",
       "      <td>1773.0</td>\n",
       "      <td>116.0</td>\n",
       "      <td>206.0</td>\n",
       "      <td>4803.0</td>\n",
       "      <td>8709.0</td>\n",
       "      <td>2.029753</td>\n",
       "    </tr>\n",
       "    <tr>\n",
       "      <th>3</th>\n",
       "      <td>LATIN AMERICA AND THE CARIBBEAN</td>\n",
       "      <td>5169</td>\n",
       "      <td>6.282700e+08</td>\n",
       "      <td>0.000823</td>\n",
       "      <td>51.0</td>\n",
       "      <td>527.0</td>\n",
       "      <td>19.0</td>\n",
       "      <td>50.0</td>\n",
       "      <td>1469.0</td>\n",
       "      <td>3053.0</td>\n",
       "      <td>1.334881</td>\n",
       "    </tr>\n",
       "    <tr>\n",
       "      <th>4</th>\n",
       "      <td>NORTHERN AMERICA</td>\n",
       "      <td>1921</td>\n",
       "      <td>3.652000e+08</td>\n",
       "      <td>0.000526</td>\n",
       "      <td>73.0</td>\n",
       "      <td>454.0</td>\n",
       "      <td>30.0</td>\n",
       "      <td>69.0</td>\n",
       "      <td>774.0</td>\n",
       "      <td>521.0</td>\n",
       "      <td>5.153566</td>\n",
       "    </tr>\n",
       "    <tr>\n",
       "      <th>5</th>\n",
       "      <td>OCEANIA</td>\n",
       "      <td>3128</td>\n",
       "      <td>3.978000e+07</td>\n",
       "      <td>0.007863</td>\n",
       "      <td>18.0</td>\n",
       "      <td>374.0</td>\n",
       "      <td>14.0</td>\n",
       "      <td>52.0</td>\n",
       "      <td>985.0</td>\n",
       "      <td>1685.0</td>\n",
       "      <td>2.109974</td>\n",
       "    </tr>\n",
       "  </tbody>\n",
       "</table>\n",
       "</div>"
      ],
      "text/plain": [
       "                            region  num_article    population  coverage  \\\n",
       "0                           AFRICA         6851  1.172400e+09  0.000584   \n",
       "1                             ASIA        11531  4.513100e+09  0.000256   \n",
       "2                           EUROPE        15864  7.345900e+08  0.002160   \n",
       "3  LATIN AMERICA AND THE CARIBBEAN         5169  6.282700e+08  0.000823   \n",
       "4                 NORTHERN AMERICA         1921  3.652000e+08  0.000526   \n",
       "5                          OCEANIA         3128  3.978000e+07  0.007863   \n",
       "\n",
       "       B       C     FA     GA   Start    Stub  high_quality  \n",
       "0   85.0   895.0   30.0   95.0  2250.0  3496.0      1.824551  \n",
       "1  226.0  1539.0   56.0  254.0  3669.0  5787.0      2.688405  \n",
       "2  257.0  1773.0  116.0  206.0  4803.0  8709.0      2.029753  \n",
       "3   51.0   527.0   19.0   50.0  1469.0  3053.0      1.334881  \n",
       "4   73.0   454.0   30.0   69.0   774.0   521.0      5.153566  \n",
       "5   18.0   374.0   14.0   52.0   985.0  1685.0      2.109974  "
      ]
     },
     "execution_count": 12,
     "metadata": {},
     "output_type": "execute_result"
    }
   ],
   "source": [
    "# Creates a dataframe for region by grouping by region and performing a sum.\n",
    "# Coverage and high_quality have to be corrected.\n",
    "\n",
    "region_data = country_data.groupby('region').sum()\n",
    "region_data['coverage'] = (region_data['num_article'] / region_data['population']) * 100\n",
    "region_data['high_quality'] = ((region_data['FA'] + region_data['GA']) / region_data['num_article']) * 100\n",
    "region_data = region_data.reset_index()\n",
    "\n",
    "region_data"
   ]
  },
  {
   "cell_type": "code",
   "execution_count": 13,
   "metadata": {
    "scrolled": false
   },
   "outputs": [
    {
     "data": {
      "text/plain": [
       "<BarContainer object of 6 artists>"
      ]
     },
     "execution_count": 13,
     "metadata": {},
     "output_type": "execute_result"
    },
    {
     "data": {
      "text/plain": [
       "([<matplotlib.axis.XTick at 0x7fb8e5fb4048>,\n",
       "  <matplotlib.axis.XTick at 0x7fb8e3c19358>,\n",
       "  <matplotlib.axis.XTick at 0x7fb8e3c19470>,\n",
       "  <matplotlib.axis.XTick at 0x7fb8e61de668>,\n",
       "  <matplotlib.axis.XTick at 0x7fb8e5d0a7b8>,\n",
       "  <matplotlib.axis.XTick at 0x7fb8e5d0acc0>],\n",
       " <a list of 6 Text xticklabel objects>)"
      ]
     },
     "execution_count": 13,
     "metadata": {},
     "output_type": "execute_result"
    },
    {
     "data": {
      "text/plain": [
       "Text(0.5, 1.0, '% of High Quality Articles by Region')"
      ]
     },
     "execution_count": 13,
     "metadata": {},
     "output_type": "execute_result"
    },
    {
     "data": {
      "text/plain": [
       "Text(0.5, 0, 'Regions')"
      ]
     },
     "execution_count": 13,
     "metadata": {},
     "output_type": "execute_result"
    },
    {
     "data": {
      "text/plain": [
       "Text(0, 0.5, '% of high quality articles')"
      ]
     },
     "execution_count": 13,
     "metadata": {},
     "output_type": "execute_result"
    },
    {
     "data": {
      "image/png": "[encoded data removed]",
      "text/plain": [
       "<Figure size 432x288 with 1 Axes>"
      ]
     },
     "metadata": {
      "needs_background": "light"
     },
     "output_type": "display_data"
    }
   ],
   "source": [
    "# makes a bar plot for high-quality articles by region\n",
    "plt.bar(list(range(6)), region_data['high_quality'])\n",
    "plt.xticks(list(range(6)), ['Africa', 'Asia', 'Europe', 'Latin America', 'North America', 'Oceania'], rotation=45)\n",
    "plt.title('% of High Quality Articles by Region')\n",
    "plt.xlabel('Regions')\n",
    "plt.ylabel('% of high quality articles')\n",
    "plt.savefig('high_quality_by_region.png')\n",
    "plt.show()"
   ]
  },
  {
   "cell_type": "code",
   "execution_count": 14,
   "metadata": {},
   "outputs": [
    {
     "data": {
      "text/plain": [
       "<BarContainer object of 6 artists>"
      ]
     },
     "execution_count": 14,
     "metadata": {},
     "output_type": "execute_result"
    },
    {
     "data": {
      "text/plain": [
       "([<matplotlib.axis.XTick at 0x7fb8e5cdea20>,\n",
       "  <matplotlib.axis.XTick at 0x7fb8e5cde358>,\n",
       "  <matplotlib.axis.XTick at 0x7fb8e5cde240>,\n",
       "  <matplotlib.axis.XTick at 0x7fb8e4a7acc0>,\n",
       "  <matplotlib.axis.XTick at 0x7fb8e4a84198>,\n",
       "  <matplotlib.axis.XTick at 0x7fb8e4a84668>],\n",
       " <a list of 6 Text xticklabel objects>)"
      ]
     },
     "execution_count": 14,
     "metadata": {},
     "output_type": "execute_result"
    },
    {
     "data": {
      "text/plain": [
       "Text(0.5, 1.0, 'Coverage % by Region')"
      ]
     },
     "execution_count": 14,
     "metadata": {},
     "output_type": "execute_result"
    },
    {
     "data": {
      "text/plain": [
       "Text(0.5, 0, 'Regions')"
      ]
     },
     "execution_count": 14,
     "metadata": {},
     "output_type": "execute_result"
    },
    {
     "data": {
      "text/plain": [
       "Text(0, 0.5, 'Coverage %')"
      ]
     },
     "execution_count": 14,
     "metadata": {},
     "output_type": "execute_result"
    },
    {
     "data": {
      "image/png": "[encoded data removed]",
      "text/plain": [
       "<Figure size 432x288 with 1 Axes>"
      ]
     },
     "metadata": {
      "needs_background": "light"
     },
     "output_type": "display_data"
    }
   ],
   "source": [
    "# makes a bar plot for coverage articles by region\n",
    "plt.bar(list(range(6)), region_data['coverage'])\n",
    "plt.xticks(list(range(6)), ['Africa', 'Asia', 'Europe', 'Latin America', 'North America', 'Oceania'], rotation=45)\n",
    "plt.title('Coverage % by Region')\n",
    "plt.xlabel('Regions')\n",
    "plt.ylabel('Coverage %')\n",
    "plt.savefig('coverage_by_region.png')\n",
    "plt.show()\n"
   ]
  },
  {
   "cell_type": "code",
   "execution_count": 22,
   "metadata": {},
   "outputs": [],
   "source": [
    "# Saves country and region data as .csv files.\n",
    "country_data.to_csv('wp_by_country.csv')\n",
    "region_data.to_csv('wp_by_region.csv')"
   ]
  },
  {
   "cell_type": "markdown",
   "metadata": {},
   "source": [
    " "
   ]
  },
  {
   "cell_type": "markdown",
   "metadata": {},
   "source": [
    " "
   ]
  },
  {
   "cell_type": "markdown",
   "metadata": {},
   "source": [
    "### Results"
   ]
  },
  {
   "cell_type": "markdown",
   "metadata": {},
   "source": [
    "#### Top 10 countries by coverage \n",
    "##### \"10 highest-ranked countries in terms of number of politician articles as a proportion of country population.\""
   ]
  },
  {
   "cell_type": "code",
   "execution_count": 23,
   "metadata": {},
   "outputs": [
    {
     "data": {
      "text/html": [
       "<style  type=\"text/css\" >\n",
       "</style><table id=\"T_5f602f8c_f0e9_11e9_8c4c_31df63cef5d8\" ><thead>    <tr>        <th class=\"col_heading level0 col0\" >country</th>        <th class=\"col_heading level0 col1\" >coverage</th>    </tr></thead><tbody>\n",
       "                <tr>\n",
       "                                <td id=\"T_5f602f8c_f0e9_11e9_8c4c_31df63cef5d8row0_col0\" class=\"data row0 col0\" >Tuvalu</td>\n",
       "                        <td id=\"T_5f602f8c_f0e9_11e9_8c4c_31df63cef5d8row0_col1\" class=\"data row0 col1\" >0.54</td>\n",
       "            </tr>\n",
       "            <tr>\n",
       "                                <td id=\"T_5f602f8c_f0e9_11e9_8c4c_31df63cef5d8row1_col0\" class=\"data row1 col0\" >Nauru</td>\n",
       "                        <td id=\"T_5f602f8c_f0e9_11e9_8c4c_31df63cef5d8row1_col1\" class=\"data row1 col1\" >0.52</td>\n",
       "            </tr>\n",
       "            <tr>\n",
       "                                <td id=\"T_5f602f8c_f0e9_11e9_8c4c_31df63cef5d8row2_col0\" class=\"data row2 col0\" >San Marino</td>\n",
       "                        <td id=\"T_5f602f8c_f0e9_11e9_8c4c_31df63cef5d8row2_col1\" class=\"data row2 col1\" >0.27</td>\n",
       "            </tr>\n",
       "            <tr>\n",
       "                                <td id=\"T_5f602f8c_f0e9_11e9_8c4c_31df63cef5d8row3_col0\" class=\"data row3 col0\" >Monaco</td>\n",
       "                        <td id=\"T_5f602f8c_f0e9_11e9_8c4c_31df63cef5d8row3_col1\" class=\"data row3 col1\" >0.1</td>\n",
       "            </tr>\n",
       "            <tr>\n",
       "                                <td id=\"T_5f602f8c_f0e9_11e9_8c4c_31df63cef5d8row4_col0\" class=\"data row4 col0\" >Liechtenstein</td>\n",
       "                        <td id=\"T_5f602f8c_f0e9_11e9_8c4c_31df63cef5d8row4_col1\" class=\"data row4 col1\" >0.07</td>\n",
       "            </tr>\n",
       "            <tr>\n",
       "                                <td id=\"T_5f602f8c_f0e9_11e9_8c4c_31df63cef5d8row5_col0\" class=\"data row5 col0\" >Tonga</td>\n",
       "                        <td id=\"T_5f602f8c_f0e9_11e9_8c4c_31df63cef5d8row5_col1\" class=\"data row5 col1\" >0.063</td>\n",
       "            </tr>\n",
       "            <tr>\n",
       "                                <td id=\"T_5f602f8c_f0e9_11e9_8c4c_31df63cef5d8row6_col0\" class=\"data row6 col0\" >Marshall Islands</td>\n",
       "                        <td id=\"T_5f602f8c_f0e9_11e9_8c4c_31df63cef5d8row6_col1\" class=\"data row6 col1\" >0.0616667</td>\n",
       "            </tr>\n",
       "            <tr>\n",
       "                                <td id=\"T_5f602f8c_f0e9_11e9_8c4c_31df63cef5d8row7_col0\" class=\"data row7 col0\" >Iceland</td>\n",
       "                        <td id=\"T_5f602f8c_f0e9_11e9_8c4c_31df63cef5d8row7_col1\" class=\"data row7 col1\" >0.05025</td>\n",
       "            </tr>\n",
       "            <tr>\n",
       "                                <td id=\"T_5f602f8c_f0e9_11e9_8c4c_31df63cef5d8row8_col0\" class=\"data row8 col0\" >Andorra</td>\n",
       "                        <td id=\"T_5f602f8c_f0e9_11e9_8c4c_31df63cef5d8row8_col1\" class=\"data row8 col1\" >0.0425</td>\n",
       "            </tr>\n",
       "            <tr>\n",
       "                                <td id=\"T_5f602f8c_f0e9_11e9_8c4c_31df63cef5d8row9_col0\" class=\"data row9 col0\" >Grenada</td>\n",
       "                        <td id=\"T_5f602f8c_f0e9_11e9_8c4c_31df63cef5d8row9_col1\" class=\"data row9 col1\" >0.036</td>\n",
       "            </tr>\n",
       "    </tbody></table>"
      ],
      "text/plain": [
       "<pandas.io.formats.style.Styler at 0x7fe4b5fdf3c8>"
      ]
     },
     "execution_count": 23,
     "metadata": {},
     "output_type": "execute_result"
    }
   ],
   "source": [
    "# Creates table for the top 10 countries by coverage.\n",
    "country_data.sort_values(by='coverage', ascending=False).head(10)[['country', 'coverage']].style.hide_index()"
   ]
  },
  {
   "cell_type": "markdown",
   "metadata": {},
   "source": [
    "#### Bottom 10 countries by coverage\n",
    "##### \"10 lowest-ranked countries in terms of number of politician articles as a proportion of country population.\""
   ]
  },
  {
   "cell_type": "code",
   "execution_count": 24,
   "metadata": {},
   "outputs": [
    {
     "data": {
      "text/html": [
       "<style  type=\"text/css\" >\n",
       "</style><table id=\"T_5f66f920_f0e9_11e9_8c4c_31df63cef5d8\" ><thead>    <tr>        <th class=\"col_heading level0 col0\" >country</th>        <th class=\"col_heading level0 col1\" >coverage</th>    </tr></thead><tbody>\n",
       "                <tr>\n",
       "                                <td id=\"T_5f66f920_f0e9_11e9_8c4c_31df63cef5d8row0_col0\" class=\"data row0 col0\" >India</td>\n",
       "                        <td id=\"T_5f66f920_f0e9_11e9_8c4c_31df63cef5d8row0_col1\" class=\"data row0 col1\" >7.1465e-05</td>\n",
       "            </tr>\n",
       "            <tr>\n",
       "                                <td id=\"T_5f66f920_f0e9_11e9_8c4c_31df63cef5d8row1_col0\" class=\"data row1 col0\" >Indonesia</td>\n",
       "                        <td id=\"T_5f66f920_f0e9_11e9_8c4c_31df63cef5d8row1_col1\" class=\"data row1 col1\" >7.91855e-05</td>\n",
       "            </tr>\n",
       "            <tr>\n",
       "                                <td id=\"T_5f66f920_f0e9_11e9_8c4c_31df63cef5d8row2_col0\" class=\"data row2 col0\" >China</td>\n",
       "                        <td id=\"T_5f66f920_f0e9_11e9_8c4c_31df63cef5d8row2_col1\" class=\"data row2 col1\" >8.10733e-05</td>\n",
       "            </tr>\n",
       "            <tr>\n",
       "                                <td id=\"T_5f66f920_f0e9_11e9_8c4c_31df63cef5d8row3_col0\" class=\"data row3 col0\" >Uzbekistan</td>\n",
       "                        <td id=\"T_5f66f920_f0e9_11e9_8c4c_31df63cef5d8row3_col1\" class=\"data row3 col1\" >8.51064e-05</td>\n",
       "            </tr>\n",
       "            <tr>\n",
       "                                <td id=\"T_5f66f920_f0e9_11e9_8c4c_31df63cef5d8row4_col0\" class=\"data row4 col0\" >Ethiopia</td>\n",
       "                        <td id=\"T_5f66f920_f0e9_11e9_8c4c_31df63cef5d8row4_col1\" class=\"data row4 col1\" >9.39535e-05</td>\n",
       "            </tr>\n",
       "            <tr>\n",
       "                                <td id=\"T_5f66f920_f0e9_11e9_8c4c_31df63cef5d8row5_col0\" class=\"data row5 col0\" >Korea, North</td>\n",
       "                        <td id=\"T_5f66f920_f0e9_11e9_8c4c_31df63cef5d8row5_col1\" class=\"data row5 col1\" >0.000140625</td>\n",
       "            </tr>\n",
       "            <tr>\n",
       "                                <td id=\"T_5f66f920_f0e9_11e9_8c4c_31df63cef5d8row6_col0\" class=\"data row6 col0\" >Zambia</td>\n",
       "                        <td id=\"T_5f66f920_f0e9_11e9_8c4c_31df63cef5d8row6_col1\" class=\"data row6 col1\" >0.000141243</td>\n",
       "            </tr>\n",
       "            <tr>\n",
       "                                <td id=\"T_5f66f920_f0e9_11e9_8c4c_31df63cef5d8row7_col0\" class=\"data row7 col0\" >Thailand</td>\n",
       "                        <td id=\"T_5f66f920_f0e9_11e9_8c4c_31df63cef5d8row7_col1\" class=\"data row7 col1\" >0.000169184</td>\n",
       "            </tr>\n",
       "            <tr>\n",
       "                                <td id=\"T_5f66f920_f0e9_11e9_8c4c_31df63cef5d8row8_col0\" class=\"data row8 col0\" >Mozambique</td>\n",
       "                        <td id=\"T_5f66f920_f0e9_11e9_8c4c_31df63cef5d8row8_col1\" class=\"data row8 col1\" >0.000190164</td>\n",
       "            </tr>\n",
       "            <tr>\n",
       "                                <td id=\"T_5f66f920_f0e9_11e9_8c4c_31df63cef5d8row9_col0\" class=\"data row9 col0\" >Bangladesh</td>\n",
       "                        <td id=\"T_5f66f920_f0e9_11e9_8c4c_31df63cef5d8row9_col1\" class=\"data row9 col1\" >0.000191707</td>\n",
       "            </tr>\n",
       "    </tbody></table>"
      ],
      "text/plain": [
       "<pandas.io.formats.style.Styler at 0x7fe4b350e710>"
      ]
     },
     "execution_count": 24,
     "metadata": {},
     "output_type": "execute_result"
    }
   ],
   "source": [
    "# Creates table for the bottom 10 countries by coverage.\n",
    "country_data.sort_values(by='coverage', ascending=True).head(10)[['country', 'coverage']].style.hide_index()"
   ]
  },
  {
   "cell_type": "markdown",
   "metadata": {},
   "source": [
    "#### Top 10 countries by relative quality\n",
    "##### \"10 highest-ranked countries in terms of the relative proportion of politician articles that are of GA and FA-quality.\""
   ]
  },
  {
   "cell_type": "code",
   "execution_count": 25,
   "metadata": {
    "scrolled": true
   },
   "outputs": [
    {
     "data": {
      "text/html": [
       "<style  type=\"text/css\" >\n",
       "</style><table id=\"T_5f6b3422_f0e9_11e9_8c4c_31df63cef5d8\" ><thead>    <tr>        <th class=\"col_heading level0 col0\" >country</th>        <th class=\"col_heading level0 col1\" >high_quality</th>    </tr></thead><tbody>\n",
       "                <tr>\n",
       "                                <td id=\"T_5f6b3422_f0e9_11e9_8c4c_31df63cef5d8row0_col0\" class=\"data row0 col0\" >Korea, North</td>\n",
       "                        <td id=\"T_5f6b3422_f0e9_11e9_8c4c_31df63cef5d8row0_col1\" class=\"data row0 col1\" >19.4444</td>\n",
       "            </tr>\n",
       "            <tr>\n",
       "                                <td id=\"T_5f6b3422_f0e9_11e9_8c4c_31df63cef5d8row1_col0\" class=\"data row1 col0\" >Saudi Arabia</td>\n",
       "                        <td id=\"T_5f6b3422_f0e9_11e9_8c4c_31df63cef5d8row1_col1\" class=\"data row1 col1\" >12.7119</td>\n",
       "            </tr>\n",
       "            <tr>\n",
       "                                <td id=\"T_5f6b3422_f0e9_11e9_8c4c_31df63cef5d8row2_col0\" class=\"data row2 col0\" >Mauritania</td>\n",
       "                        <td id=\"T_5f6b3422_f0e9_11e9_8c4c_31df63cef5d8row2_col1\" class=\"data row2 col1\" >12.5</td>\n",
       "            </tr>\n",
       "            <tr>\n",
       "                                <td id=\"T_5f6b3422_f0e9_11e9_8c4c_31df63cef5d8row3_col0\" class=\"data row3 col0\" >Central African Republic</td>\n",
       "                        <td id=\"T_5f6b3422_f0e9_11e9_8c4c_31df63cef5d8row3_col1\" class=\"data row3 col1\" >12.1212</td>\n",
       "            </tr>\n",
       "            <tr>\n",
       "                                <td id=\"T_5f6b3422_f0e9_11e9_8c4c_31df63cef5d8row4_col0\" class=\"data row4 col0\" >Romania</td>\n",
       "                        <td id=\"T_5f6b3422_f0e9_11e9_8c4c_31df63cef5d8row4_col1\" class=\"data row4 col1\" >11.3703</td>\n",
       "            </tr>\n",
       "            <tr>\n",
       "                                <td id=\"T_5f6b3422_f0e9_11e9_8c4c_31df63cef5d8row5_col0\" class=\"data row5 col0\" >Tuvalu</td>\n",
       "                        <td id=\"T_5f6b3422_f0e9_11e9_8c4c_31df63cef5d8row5_col1\" class=\"data row5 col1\" >9.25926</td>\n",
       "            </tr>\n",
       "            <tr>\n",
       "                                <td id=\"T_5f6b3422_f0e9_11e9_8c4c_31df63cef5d8row6_col0\" class=\"data row6 col0\" >Bhutan</td>\n",
       "                        <td id=\"T_5f6b3422_f0e9_11e9_8c4c_31df63cef5d8row6_col1\" class=\"data row6 col1\" >9.09091</td>\n",
       "            </tr>\n",
       "            <tr>\n",
       "                                <td id=\"T_5f6b3422_f0e9_11e9_8c4c_31df63cef5d8row7_col0\" class=\"data row7 col0\" >Dominica</td>\n",
       "                        <td id=\"T_5f6b3422_f0e9_11e9_8c4c_31df63cef5d8row7_col1\" class=\"data row7 col1\" >8.33333</td>\n",
       "            </tr>\n",
       "            <tr>\n",
       "                                <td id=\"T_5f6b3422_f0e9_11e9_8c4c_31df63cef5d8row8_col0\" class=\"data row8 col0\" >Syria</td>\n",
       "                        <td id=\"T_5f6b3422_f0e9_11e9_8c4c_31df63cef5d8row8_col1\" class=\"data row8 col1\" >7.8125</td>\n",
       "            </tr>\n",
       "            <tr>\n",
       "                                <td id=\"T_5f6b3422_f0e9_11e9_8c4c_31df63cef5d8row9_col0\" class=\"data row9 col0\" >Benin</td>\n",
       "                        <td id=\"T_5f6b3422_f0e9_11e9_8c4c_31df63cef5d8row9_col1\" class=\"data row9 col1\" >7.69231</td>\n",
       "            </tr>\n",
       "    </tbody></table>"
      ],
      "text/plain": [
       "<pandas.io.formats.style.Styler at 0x7fe4b357e1d0>"
      ]
     },
     "execution_count": 25,
     "metadata": {},
     "output_type": "execute_result"
    }
   ],
   "source": [
    "# Creates the table for the top 10 countries by relative quality.\n",
    "country_data.sort_values(by='high_quality', ascending=False).head(10)[['country', 'high_quality']].style.hide_index()"
   ]
  },
  {
   "cell_type": "code",
   "execution_count": 26,
   "metadata": {},
   "outputs": [
    {
     "data": {
      "text/html": [
       "<div>\n",
       "<style scoped>\n",
       "    .dataframe tbody tr th:only-of-type {\n",
       "        vertical-align: middle;\n",
       "    }\n",
       "\n",
       "    .dataframe tbody tr th {\n",
       "        vertical-align: top;\n",
       "    }\n",
       "\n",
       "    .dataframe thead th {\n",
       "        text-align: right;\n",
       "    }\n",
       "</style>\n",
       "<table border=\"1\" class=\"dataframe\">\n",
       "  <thead>\n",
       "    <tr style=\"text-align: right;\">\n",
       "      <th></th>\n",
       "      <th>country</th>\n",
       "      <th>num_article</th>\n",
       "      <th>population</th>\n",
       "      <th>coverage</th>\n",
       "      <th>B</th>\n",
       "      <th>C</th>\n",
       "      <th>FA</th>\n",
       "      <th>GA</th>\n",
       "      <th>Start</th>\n",
       "      <th>Stub</th>\n",
       "      <th>high_quality</th>\n",
       "      <th>region</th>\n",
       "    </tr>\n",
       "  </thead>\n",
       "  <tbody>\n",
       "    <tr>\n",
       "      <th>82</th>\n",
       "      <td>Korea, North</td>\n",
       "      <td>36</td>\n",
       "      <td>25600000.0</td>\n",
       "      <td>0.000141</td>\n",
       "      <td>3.0</td>\n",
       "      <td>10.0</td>\n",
       "      <td>2.0</td>\n",
       "      <td>5.0</td>\n",
       "      <td>14.0</td>\n",
       "      <td>2.0</td>\n",
       "      <td>19.444444</td>\n",
       "      <td>ASIA</td>\n",
       "    </tr>\n",
       "  </tbody>\n",
       "</table>\n",
       "</div>"
      ],
      "text/plain": [
       "         country  num_article  population  coverage    B     C   FA   GA  \\\n",
       "82  Korea, North           36  25600000.0  0.000141  3.0  10.0  2.0  5.0   \n",
       "\n",
       "    Start  Stub  high_quality region  \n",
       "82   14.0   2.0     19.444444   ASIA  "
      ]
     },
     "execution_count": 26,
     "metadata": {},
     "output_type": "execute_result"
    }
   ],
   "source": [
    "# Checks for row pertaining North Korea for curiosity.\n",
    "country_data[country_data['country'] == 'Korea, North']"
   ]
  },
  {
   "cell_type": "markdown",
   "metadata": {},
   "source": [
    "#### Bottom 10 countries by relative quality\n",
    "##### \"10 lowest-ranked countries in terms of the relative proportion of politician articles that are of GA and FA-quality.\""
   ]
  },
  {
   "cell_type": "code",
   "execution_count": 27,
   "metadata": {},
   "outputs": [
    {
     "data": {
      "text/html": [
       "<style  type=\"text/css\" >\n",
       "</style><table id=\"T_5f757036_f0e9_11e9_8c4c_31df63cef5d8\" ><thead>    <tr>        <th class=\"col_heading level0 col0\" >country</th>        <th class=\"col_heading level0 col1\" >high_quality</th>    </tr></thead><tbody>\n",
       "                <tr>\n",
       "                                <td id=\"T_5f757036_f0e9_11e9_8c4c_31df63cef5d8row0_col0\" class=\"data row0 col0\" >Slovakia</td>\n",
       "                        <td id=\"T_5f757036_f0e9_11e9_8c4c_31df63cef5d8row0_col1\" class=\"data row0 col1\" >0</td>\n",
       "            </tr>\n",
       "            <tr>\n",
       "                                <td id=\"T_5f757036_f0e9_11e9_8c4c_31df63cef5d8row1_col0\" class=\"data row1 col0\" >Namibia</td>\n",
       "                        <td id=\"T_5f757036_f0e9_11e9_8c4c_31df63cef5d8row1_col1\" class=\"data row1 col1\" >0</td>\n",
       "            </tr>\n",
       "            <tr>\n",
       "                                <td id=\"T_5f757036_f0e9_11e9_8c4c_31df63cef5d8row2_col0\" class=\"data row2 col0\" >Cape Verde</td>\n",
       "                        <td id=\"T_5f757036_f0e9_11e9_8c4c_31df63cef5d8row2_col1\" class=\"data row2 col1\" >0</td>\n",
       "            </tr>\n",
       "            <tr>\n",
       "                                <td id=\"T_5f757036_f0e9_11e9_8c4c_31df63cef5d8row3_col0\" class=\"data row3 col0\" >Mozambique</td>\n",
       "                        <td id=\"T_5f757036_f0e9_11e9_8c4c_31df63cef5d8row3_col1\" class=\"data row3 col1\" >0</td>\n",
       "            </tr>\n",
       "            <tr>\n",
       "                                <td id=\"T_5f757036_f0e9_11e9_8c4c_31df63cef5d8row4_col0\" class=\"data row4 col0\" >Costa Rica</td>\n",
       "                        <td id=\"T_5f757036_f0e9_11e9_8c4c_31df63cef5d8row4_col1\" class=\"data row4 col1\" >0</td>\n",
       "            </tr>\n",
       "            <tr>\n",
       "                                <td id=\"T_5f757036_f0e9_11e9_8c4c_31df63cef5d8row5_col0\" class=\"data row5 col0\" >Monaco</td>\n",
       "                        <td id=\"T_5f757036_f0e9_11e9_8c4c_31df63cef5d8row5_col1\" class=\"data row5 col1\" >0</td>\n",
       "            </tr>\n",
       "            <tr>\n",
       "                                <td id=\"T_5f757036_f0e9_11e9_8c4c_31df63cef5d8row6_col0\" class=\"data row6 col0\" >Djibouti</td>\n",
       "                        <td id=\"T_5f757036_f0e9_11e9_8c4c_31df63cef5d8row6_col1\" class=\"data row6 col1\" >0</td>\n",
       "            </tr>\n",
       "            <tr>\n",
       "                                <td id=\"T_5f757036_f0e9_11e9_8c4c_31df63cef5d8row7_col0\" class=\"data row7 col0\" >Moldova</td>\n",
       "                        <td id=\"T_5f757036_f0e9_11e9_8c4c_31df63cef5d8row7_col1\" class=\"data row7 col1\" >0</td>\n",
       "            </tr>\n",
       "            <tr>\n",
       "                                <td id=\"T_5f757036_f0e9_11e9_8c4c_31df63cef5d8row8_col0\" class=\"data row8 col0\" >Uganda</td>\n",
       "                        <td id=\"T_5f757036_f0e9_11e9_8c4c_31df63cef5d8row8_col1\" class=\"data row8 col1\" >0</td>\n",
       "            </tr>\n",
       "            <tr>\n",
       "                                <td id=\"T_5f757036_f0e9_11e9_8c4c_31df63cef5d8row9_col0\" class=\"data row9 col0\" >Eritrea</td>\n",
       "                        <td id=\"T_5f757036_f0e9_11e9_8c4c_31df63cef5d8row9_col1\" class=\"data row9 col1\" >0</td>\n",
       "            </tr>\n",
       "    </tbody></table>"
      ],
      "text/plain": [
       "<pandas.io.formats.style.Styler at 0x7fe4b357e6d8>"
      ]
     },
     "execution_count": 27,
     "metadata": {},
     "output_type": "execute_result"
    }
   ],
   "source": [
    "# Creates table for the bottom 10 countries by relative quality.\n",
    "country_data.sort_values(by='high_quality', ascending=True)[['country', 'high_quality']].head(10).style.hide_index()"
   ]
  },
  {
   "cell_type": "code",
   "execution_count": 28,
   "metadata": {
    "scrolled": true
   },
   "outputs": [
    {
     "name": "stdout",
     "output_type": "stream",
     "text": [
      "There are 38 countries with 0 GA or FA-quality articles.\n"
     ]
    }
   ],
   "source": [
    "print(\"There are {0} countries with 0 GA or FA-quality articles.\".format(sum(country_data['high_quality'] == 0)))"
   ]
  },
  {
   "cell_type": "markdown",
   "metadata": {},
   "source": [
    "This table shows the number of countries that had 0 GA or FA-quality articles by region."
   ]
  },
  {
   "cell_type": "code",
   "execution_count": 29,
   "metadata": {
    "scrolled": true
   },
   "outputs": [
    {
     "data": {
      "text/html": [
       "<div>\n",
       "<style scoped>\n",
       "    .dataframe tbody tr th:only-of-type {\n",
       "        vertical-align: middle;\n",
       "    }\n",
       "\n",
       "    .dataframe tbody tr th {\n",
       "        vertical-align: top;\n",
       "    }\n",
       "\n",
       "    .dataframe thead th {\n",
       "        text-align: right;\n",
       "    }\n",
       "</style>\n",
       "<table border=\"1\" class=\"dataframe\">\n",
       "  <thead>\n",
       "    <tr style=\"text-align: right;\">\n",
       "      <th></th>\n",
       "      <th>country</th>\n",
       "    </tr>\n",
       "    <tr>\n",
       "      <th>region</th>\n",
       "      <th></th>\n",
       "    </tr>\n",
       "  </thead>\n",
       "  <tbody>\n",
       "    <tr>\n",
       "      <th>AFRICA</th>\n",
       "      <td>14</td>\n",
       "    </tr>\n",
       "    <tr>\n",
       "      <th>ASIA</th>\n",
       "      <td>2</td>\n",
       "    </tr>\n",
       "    <tr>\n",
       "      <th>EUROPE</th>\n",
       "      <td>10</td>\n",
       "    </tr>\n",
       "    <tr>\n",
       "      <th>LATIN AMERICA AND THE CARIBBEAN</th>\n",
       "      <td>6</td>\n",
       "    </tr>\n",
       "    <tr>\n",
       "      <th>OCEANIA</th>\n",
       "      <td>6</td>\n",
       "    </tr>\n",
       "  </tbody>\n",
       "</table>\n",
       "</div>"
      ],
      "text/plain": [
       "                                 country\n",
       "region                                  \n",
       "AFRICA                                14\n",
       "ASIA                                   2\n",
       "EUROPE                                10\n",
       "LATIN AMERICA AND THE CARIBBEAN        6\n",
       "OCEANIA                                6"
      ]
     },
     "execution_count": 29,
     "metadata": {},
     "output_type": "execute_result"
    }
   ],
   "source": [
    "# Creates table for number of countries with 0 high quality articles by region.\n",
    "country_data[country_data['high_quality'] == 0][['country', 'region']].groupby('region').count()"
   ]
  },
  {
   "cell_type": "markdown",
   "metadata": {},
   "source": [
    "The offending countries are:"
   ]
  },
  {
   "cell_type": "code",
   "execution_count": 30,
   "metadata": {
    "scrolled": false
   },
   "outputs": [
    {
     "data": {
      "text/plain": [
       "3                             Andorra\n",
       "4                              Angola\n",
       "5                 Antigua and Barbuda\n",
       "11                            Bahamas\n",
       "14                           Barbados\n",
       "17                             Belize\n",
       "28                           Cameroon\n",
       "30                         Cape Verde\n",
       "36                            Comoros\n",
       "38                         Costa Rica\n",
       "43                           Djibouti\n",
       "49                            Eritrea\n",
       "50                            Estonia\n",
       "52     Federated States of Micronesia\n",
       "54                            Finland\n",
       "65                             Guyana\n",
       "79                         Kazakhstan\n",
       "81                           Kiribati\n",
       "90                            Lesotho\n",
       "93                      Liechtenstein\n",
       "96                          Macedonia\n",
       "102                             Malta\n",
       "103                  Marshall Islands\n",
       "107                           Moldova\n",
       "108                            Monaco\n",
       "112                        Mozambique\n",
       "114                           Namibia\n",
       "115                             Nauru\n",
       "135                        San Marino\n",
       "136             Sao Tome and Principe\n",
       "140                        Seychelles\n",
       "143                          Slovakia\n",
       "145                   Solomon Islands\n",
       "161                             Tonga\n",
       "163                           Tunisia\n",
       "165                      Turkmenistan\n",
       "167                            Uganda\n",
       "178                            Zambia\n",
       "Name: country, dtype: object"
      ]
     },
     "execution_count": 30,
     "metadata": {},
     "output_type": "execute_result"
    }
   ],
   "source": [
    "# Lists the countries with 0 high quality articles.\n",
    "zero_high_quality = country_data[country_data['high_quality'] == 0]['country']\n",
    "zero_high_quality"
   ]
  },
  {
   "cell_type": "code",
   "execution_count": 31,
   "metadata": {
    "scrolled": false
   },
   "outputs": [
    {
     "data": {
      "text/plain": [
       "<BarContainer object of 38 artists>"
      ]
     },
     "execution_count": 31,
     "metadata": {},
     "output_type": "execute_result"
    },
    {
     "data": {
      "text/plain": [
       "([<matplotlib.axis.XTick at 0x7fe4b3507978>,\n",
       "  <matplotlib.axis.XTick at 0x7fe4b350ec50>,\n",
       "  <matplotlib.axis.XTick at 0x7fe4b3507e10>,\n",
       "  <matplotlib.axis.XTick at 0x7fe4b32072e8>,\n",
       "  <matplotlib.axis.XTick at 0x7fe4b32077b8>,\n",
       "  <matplotlib.axis.XTick at 0x7fe4b3207cc0>,\n",
       "  <matplotlib.axis.XTick at 0x7fe4b320e208>,\n",
       "  <matplotlib.axis.XTick at 0x7fe4b320e748>,\n",
       "  <matplotlib.axis.XTick at 0x7fe4b320eba8>,\n",
       "  <matplotlib.axis.XTick at 0x7fe4b3213128>,\n",
       "  <matplotlib.axis.XTick at 0x7fe4b3213588>,\n",
       "  <matplotlib.axis.XTick at 0x7fe4b320e6d8>,\n",
       "  <matplotlib.axis.XTick at 0x7fe4b3207390>,\n",
       "  <matplotlib.axis.XTick at 0x7fe4b3213978>,\n",
       "  <matplotlib.axis.XTick at 0x7fe4b3213e48>,\n",
       "  <matplotlib.axis.XTick at 0x7fe4b321a358>,\n",
       "  <matplotlib.axis.XTick at 0x7fe4b321a828>,\n",
       "  <matplotlib.axis.XTick at 0x7fe4b321acf8>,\n",
       "  <matplotlib.axis.XTick at 0x7fe4b3222240>,\n",
       "  <matplotlib.axis.XTick at 0x7fe4b3222748>,\n",
       "  <matplotlib.axis.XTick at 0x7fe4b321a4a8>,\n",
       "  <matplotlib.axis.XTick at 0x7fe4b3213a58>,\n",
       "  <matplotlib.axis.XTick at 0x7fe4b3222898>,\n",
       "  <matplotlib.axis.XTick at 0x7fe4b32220b8>,\n",
       "  <matplotlib.axis.XTick at 0x7fe4b32294e0>,\n",
       "  <matplotlib.axis.XTick at 0x7fe4b32299e8>,\n",
       "  <matplotlib.axis.XTick at 0x7fe4b3229ef0>,\n",
       "  <matplotlib.axis.XTick at 0x7fe4b3230438>,\n",
       "  <matplotlib.axis.XTick at 0x7fe4b3230940>,\n",
       "  <matplotlib.axis.XTick at 0x7fe4b3230e48>,\n",
       "  <matplotlib.axis.XTick at 0x7fe4b3230a20>,\n",
       "  <matplotlib.axis.XTick at 0x7fe4b32294a8>,\n",
       "  <matplotlib.axis.XTick at 0x7fe4b3237240>,\n",
       "  <matplotlib.axis.XTick at 0x7fe4b32376d8>,\n",
       "  <matplotlib.axis.XTick at 0x7fe4b3237be0>,\n",
       "  <matplotlib.axis.XTick at 0x7fe4b31c2160>,\n",
       "  <matplotlib.axis.XTick at 0x7fe4b31c2630>,\n",
       "  <matplotlib.axis.XTick at 0x7fe4b31c2b38>],\n",
       " <a list of 38 Text xticklabel objects>)"
      ]
     },
     "execution_count": 31,
     "metadata": {},
     "output_type": "execute_result"
    },
    {
     "data": {
      "text/plain": [
       "Text(0.5, 1.0, 'number of articles by countries with 0 high-quality articles')"
      ]
     },
     "execution_count": 31,
     "metadata": {},
     "output_type": "execute_result"
    },
    {
     "data": {
      "text/plain": [
       "Text(0.5, 0, 'Country')"
      ]
     },
     "execution_count": 31,
     "metadata": {},
     "output_type": "execute_result"
    },
    {
     "data": {
      "text/plain": [
       "Text(0, 0.5, 'Number of articles')"
      ]
     },
     "execution_count": 31,
     "metadata": {},
     "output_type": "execute_result"
    },
    {
     "data": {
      "image/png": "[encoded data removed]",
      "text/plain": [
       "<Figure size 432x288 with 1 Axes>"
      ]
     },
     "metadata": {
      "needs_background": "light"
     },
     "output_type": "display_data"
    }
   ],
   "source": [
    "# Makes a bar plot for number of articles by countries with 0 high quality articles.\n",
    "plt.bar(list(range(len(zero_high_quality))), country_data[country_data['high_quality'] == 0]['num_article'])\n",
    "plt.xticks(list(range(len(zero_high_quality))), zero_high_quality, rotation=45)\n",
    "plt.title('number of articles by countries with 0 high-quality articles')\n",
    "plt.xlabel('Country')\n",
    "plt.ylabel('Number of articles')\n",
    "plt.show()"
   ]
  },
  {
   "cell_type": "code",
   "execution_count": 32,
   "metadata": {
    "scrolled": false
   },
   "outputs": [
    {
     "data": {
      "text/html": [
       "<div>\n",
       "<style scoped>\n",
       "    .dataframe tbody tr th:only-of-type {\n",
       "        vertical-align: middle;\n",
       "    }\n",
       "\n",
       "    .dataframe tbody tr th {\n",
       "        vertical-align: top;\n",
       "    }\n",
       "\n",
       "    .dataframe thead th {\n",
       "        text-align: right;\n",
       "    }\n",
       "</style>\n",
       "<table border=\"1\" class=\"dataframe\">\n",
       "  <thead>\n",
       "    <tr style=\"text-align: right;\">\n",
       "      <th></th>\n",
       "      <th>coverage</th>\n",
       "    </tr>\n",
       "    <tr>\n",
       "      <th>region</th>\n",
       "      <th></th>\n",
       "    </tr>\n",
       "  </thead>\n",
       "  <tbody>\n",
       "    <tr>\n",
       "      <th>AFRICA</th>\n",
       "      <td>0.000570</td>\n",
       "    </tr>\n",
       "    <tr>\n",
       "      <th>ASIA</th>\n",
       "      <td>0.000453</td>\n",
       "    </tr>\n",
       "    <tr>\n",
       "      <th>EUROPE</th>\n",
       "      <td>0.008697</td>\n",
       "    </tr>\n",
       "    <tr>\n",
       "      <th>LATIN AMERICA AND THE CARIBBEAN</th>\n",
       "      <td>0.003443</td>\n",
       "    </tr>\n",
       "    <tr>\n",
       "      <th>OCEANIA</th>\n",
       "      <td>0.029439</td>\n",
       "    </tr>\n",
       "  </tbody>\n",
       "</table>\n",
       "</div>"
      ],
      "text/plain": [
       "                                 coverage\n",
       "region                                   \n",
       "AFRICA                           0.000570\n",
       "ASIA                             0.000453\n",
       "EUROPE                           0.008697\n",
       "LATIN AMERICA AND THE CARIBBEAN  0.003443\n",
       "OCEANIA                          0.029439"
      ]
     },
     "execution_count": 32,
     "metadata": {},
     "output_type": "execute_result"
    }
   ],
   "source": [
    "# This table shows the coverage in countries with 0 high quality articles, per region.\n",
    "zero_hq_data = country_data[country_data['high_quality'] == 0]\n",
    "zero_hq_by_region = zero_hq_data.groupby('region').sum()\n",
    "zero_hq_by_region['coverage'] = zero_hq_by_region['num_article'] / zero_hq_by_region['population'] * 100\n",
    "zero_hq_by_region[['coverage']]"
   ]
  },
  {
   "cell_type": "markdown",
   "metadata": {},
   "source": [
    "We can see that coverage is extremely low in countries with 0 high-quality articles, meaning that the population has little information about politicians in their country, and what little information they have is not high quality."
   ]
  },
  {
   "cell_type": "markdown",
   "metadata": {},
   "source": [
    "#### Top 10 countries by coverage with 0 high quality articles\n",
    "##### \"10 highest-ranked countries in terms of number of politician articles as a proportion of country population in countries with 0 high quality articles.\""
   ]
  },
  {
   "cell_type": "code",
   "execution_count": 34,
   "metadata": {
    "scrolled": true
   },
   "outputs": [
    {
     "data": {
      "text/html": [
       "<style  type=\"text/css\" >\n",
       "</style><table id=\"T_604824fe_f0e9_11e9_8c4c_31df63cef5d8\" ><thead>    <tr>        <th class=\"col_heading level0 col0\" >country</th>        <th class=\"col_heading level0 col1\" >coverage</th>    </tr></thead><tbody>\n",
       "                <tr>\n",
       "                                <td id=\"T_604824fe_f0e9_11e9_8c4c_31df63cef5d8row0_col0\" class=\"data row0 col0\" >Nauru</td>\n",
       "                        <td id=\"T_604824fe_f0e9_11e9_8c4c_31df63cef5d8row0_col1\" class=\"data row0 col1\" >0.52</td>\n",
       "            </tr>\n",
       "            <tr>\n",
       "                                <td id=\"T_604824fe_f0e9_11e9_8c4c_31df63cef5d8row1_col0\" class=\"data row1 col0\" >San Marino</td>\n",
       "                        <td id=\"T_604824fe_f0e9_11e9_8c4c_31df63cef5d8row1_col1\" class=\"data row1 col1\" >0.27</td>\n",
       "            </tr>\n",
       "            <tr>\n",
       "                                <td id=\"T_604824fe_f0e9_11e9_8c4c_31df63cef5d8row2_col0\" class=\"data row2 col0\" >Monaco</td>\n",
       "                        <td id=\"T_604824fe_f0e9_11e9_8c4c_31df63cef5d8row2_col1\" class=\"data row2 col1\" >0.1</td>\n",
       "            </tr>\n",
       "            <tr>\n",
       "                                <td id=\"T_604824fe_f0e9_11e9_8c4c_31df63cef5d8row3_col0\" class=\"data row3 col0\" >Liechtenstein</td>\n",
       "                        <td id=\"T_604824fe_f0e9_11e9_8c4c_31df63cef5d8row3_col1\" class=\"data row3 col1\" >0.07</td>\n",
       "            </tr>\n",
       "            <tr>\n",
       "                                <td id=\"T_604824fe_f0e9_11e9_8c4c_31df63cef5d8row4_col0\" class=\"data row4 col0\" >Tonga</td>\n",
       "                        <td id=\"T_604824fe_f0e9_11e9_8c4c_31df63cef5d8row4_col1\" class=\"data row4 col1\" >0.063</td>\n",
       "            </tr>\n",
       "            <tr>\n",
       "                                <td id=\"T_604824fe_f0e9_11e9_8c4c_31df63cef5d8row5_col0\" class=\"data row5 col0\" >Marshall Islands</td>\n",
       "                        <td id=\"T_604824fe_f0e9_11e9_8c4c_31df63cef5d8row5_col1\" class=\"data row5 col1\" >0.0616667</td>\n",
       "            </tr>\n",
       "            <tr>\n",
       "                                <td id=\"T_604824fe_f0e9_11e9_8c4c_31df63cef5d8row6_col0\" class=\"data row6 col0\" >Andorra</td>\n",
       "                        <td id=\"T_604824fe_f0e9_11e9_8c4c_31df63cef5d8row6_col1\" class=\"data row6 col1\" >0.0425</td>\n",
       "            </tr>\n",
       "            <tr>\n",
       "                                <td id=\"T_604824fe_f0e9_11e9_8c4c_31df63cef5d8row7_col0\" class=\"data row7 col0\" >Federated States of Micronesia</td>\n",
       "                        <td id=\"T_604824fe_f0e9_11e9_8c4c_31df63cef5d8row7_col1\" class=\"data row7 col1\" >0.036</td>\n",
       "            </tr>\n",
       "            <tr>\n",
       "                                <td id=\"T_604824fe_f0e9_11e9_8c4c_31df63cef5d8row8_col0\" class=\"data row8 col0\" >Kiribati</td>\n",
       "                        <td id=\"T_604824fe_f0e9_11e9_8c4c_31df63cef5d8row8_col1\" class=\"data row8 col1\" >0.03</td>\n",
       "            </tr>\n",
       "            <tr>\n",
       "                                <td id=\"T_604824fe_f0e9_11e9_8c4c_31df63cef5d8row9_col0\" class=\"data row9 col0\" >Antigua and Barbuda</td>\n",
       "                        <td id=\"T_604824fe_f0e9_11e9_8c4c_31df63cef5d8row9_col1\" class=\"data row9 col1\" >0.024</td>\n",
       "            </tr>\n",
       "    </tbody></table>"
      ],
      "text/plain": [
       "<pandas.io.formats.style.Styler at 0x7fe4b31fa128>"
      ]
     },
     "execution_count": 34,
     "metadata": {},
     "output_type": "execute_result"
    }
   ],
   "source": [
    "# Creates table for the top 10 countries with 0 high quality articles by coverage.\n",
    "zero_hq_data.sort_values(by='coverage', ascending=False).head(10)[['country', 'coverage']].style.hide_index()"
   ]
  },
  {
   "cell_type": "markdown",
   "metadata": {},
   "source": [
    "I find the table above particularly interesting because these are the countries with the most misinformation. "
   ]
  },
  {
   "cell_type": "markdown",
   "metadata": {},
   "source": [
    "#### Bottom 10 countries by coverage with 0 high quality articles\n",
    "##### \"10 lowest-ranked countries in terms of number of politician articles as a proportion of country population with 0 high quality articles.\""
   ]
  },
  {
   "cell_type": "code",
   "execution_count": 35,
   "metadata": {
    "scrolled": true
   },
   "outputs": [
    {
     "data": {
      "text/html": [
       "<style  type=\"text/css\" >\n",
       "</style><table id=\"T_604da46a_f0e9_11e9_8c4c_31df63cef5d8\" ><thead>    <tr>        <th class=\"col_heading level0 col0\" >country</th>        <th class=\"col_heading level0 col1\" >coverage</th>    </tr></thead><tbody>\n",
       "                <tr>\n",
       "                                <td id=\"T_604da46a_f0e9_11e9_8c4c_31df63cef5d8row0_col0\" class=\"data row0 col0\" >Zambia</td>\n",
       "                        <td id=\"T_604da46a_f0e9_11e9_8c4c_31df63cef5d8row0_col1\" class=\"data row0 col1\" >0.000141243</td>\n",
       "            </tr>\n",
       "            <tr>\n",
       "                                <td id=\"T_604da46a_f0e9_11e9_8c4c_31df63cef5d8row1_col0\" class=\"data row1 col0\" >Mozambique</td>\n",
       "                        <td id=\"T_604da46a_f0e9_11e9_8c4c_31df63cef5d8row1_col1\" class=\"data row1 col1\" >0.000190164</td>\n",
       "            </tr>\n",
       "            <tr>\n",
       "                                <td id=\"T_604da46a_f0e9_11e9_8c4c_31df63cef5d8row2_col0\" class=\"data row2 col0\" >Eritrea</td>\n",
       "                        <td id=\"T_604da46a_f0e9_11e9_8c4c_31df63cef5d8row2_col1\" class=\"data row2 col1\" >0.000266667</td>\n",
       "            </tr>\n",
       "            <tr>\n",
       "                                <td id=\"T_604da46a_f0e9_11e9_8c4c_31df63cef5d8row3_col0\" class=\"data row3 col0\" >Angola</td>\n",
       "                        <td id=\"T_604da46a_f0e9_11e9_8c4c_31df63cef5d8row3_col1\" class=\"data row3 col1\" >0.000348684</td>\n",
       "            </tr>\n",
       "            <tr>\n",
       "                                <td id=\"T_604da46a_f0e9_11e9_8c4c_31df63cef5d8row4_col0\" class=\"data row4 col0\" >Cameroon</td>\n",
       "                        <td id=\"T_604da46a_f0e9_11e9_8c4c_31df63cef5d8row4_col1\" class=\"data row4 col1\" >0.000402344</td>\n",
       "            </tr>\n",
       "            <tr>\n",
       "                                <td id=\"T_604da46a_f0e9_11e9_8c4c_31df63cef5d8row5_col0\" class=\"data row5 col0\" >Uganda</td>\n",
       "                        <td id=\"T_604da46a_f0e9_11e9_8c4c_31df63cef5d8row5_col1\" class=\"data row5 col1\" >0.000419501</td>\n",
       "            </tr>\n",
       "            <tr>\n",
       "                                <td id=\"T_604da46a_f0e9_11e9_8c4c_31df63cef5d8row6_col0\" class=\"data row6 col0\" >Kazakhstan</td>\n",
       "                        <td id=\"T_604da46a_f0e9_11e9_8c4c_31df63cef5d8row6_col1\" class=\"data row6 col1\" >0.000423913</td>\n",
       "            </tr>\n",
       "            <tr>\n",
       "                                <td id=\"T_604da46a_f0e9_11e9_8c4c_31df63cef5d8row7_col0\" class=\"data row7 col0\" >Turkmenistan</td>\n",
       "                        <td id=\"T_604da46a_f0e9_11e9_8c4c_31df63cef5d8row7_col1\" class=\"data row7 col1\" >0.000542373</td>\n",
       "            </tr>\n",
       "            <tr>\n",
       "                                <td id=\"T_604da46a_f0e9_11e9_8c4c_31df63cef5d8row8_col0\" class=\"data row8 col0\" >Tunisia</td>\n",
       "                        <td id=\"T_604da46a_f0e9_11e9_8c4c_31df63cef5d8row8_col1\" class=\"data row8 col1\" >0.00118966</td>\n",
       "            </tr>\n",
       "            <tr>\n",
       "                                <td id=\"T_604da46a_f0e9_11e9_8c4c_31df63cef5d8row9_col0\" class=\"data row9 col0\" >Lesotho</td>\n",
       "                        <td id=\"T_604da46a_f0e9_11e9_8c4c_31df63cef5d8row9_col1\" class=\"data row9 col1\" >0.00126087</td>\n",
       "            </tr>\n",
       "    </tbody></table>"
      ],
      "text/plain": [
       "<pandas.io.formats.style.Styler at 0x7fe4b31d1b00>"
      ]
     },
     "execution_count": 35,
     "metadata": {},
     "output_type": "execute_result"
    }
   ],
   "source": [
    "# Creates table for the bottom 10 countries with 0 high quality articles by coverage.\n",
    "zero_hq_data.sort_values(by='coverage', ascending=True).head(10)[['country', 'coverage']].style.hide_index()"
   ]
  },
  {
   "cell_type": "markdown",
   "metadata": {},
   "source": [
    "The table above is also interesting because this would show the countries with least, most of them being from Africa or third-world countries in Asia."
   ]
  },
  {
   "cell_type": "markdown",
   "metadata": {},
   "source": [
    "For those countries that have at least one FA or GA-quality articles, these are the 10 lowest ranked."
   ]
  },
  {
   "cell_type": "code",
   "execution_count": 36,
   "metadata": {
    "scrolled": false
   },
   "outputs": [
    {
     "data": {
      "text/html": [
       "<style  type=\"text/css\" >\n",
       "</style><table id=\"T_6055618c_f0e9_11e9_8c4c_31df63cef5d8\" ><thead>    <tr>        <th class=\"col_heading level0 col0\" >country</th>        <th class=\"col_heading level0 col1\" >high_quality</th>    </tr></thead><tbody>\n",
       "                <tr>\n",
       "                                <td id=\"T_6055618c_f0e9_11e9_8c4c_31df63cef5d8row0_col0\" class=\"data row0 col0\" >Belgium</td>\n",
       "                        <td id=\"T_6055618c_f0e9_11e9_8c4c_31df63cef5d8row0_col1\" class=\"data row0 col1\" >0.192308</td>\n",
       "            </tr>\n",
       "            <tr>\n",
       "                                <td id=\"T_6055618c_f0e9_11e9_8c4c_31df63cef5d8row1_col0\" class=\"data row1 col0\" >Tanzania</td>\n",
       "                        <td id=\"T_6055618c_f0e9_11e9_8c4c_31df63cef5d8row1_col1\" class=\"data row1 col1\" >0.246914</td>\n",
       "            </tr>\n",
       "            <tr>\n",
       "                                <td id=\"T_6055618c_f0e9_11e9_8c4c_31df63cef5d8row2_col0\" class=\"data row2 col0\" >Switzerland</td>\n",
       "                        <td id=\"T_6055618c_f0e9_11e9_8c4c_31df63cef5d8row2_col1\" class=\"data row2 col1\" >0.248756</td>\n",
       "            </tr>\n",
       "            <tr>\n",
       "                                <td id=\"T_6055618c_f0e9_11e9_8c4c_31df63cef5d8row3_col0\" class=\"data row3 col0\" >Nepal</td>\n",
       "                        <td id=\"T_6055618c_f0e9_11e9_8c4c_31df63cef5d8row3_col1\" class=\"data row3 col1\" >0.280112</td>\n",
       "            </tr>\n",
       "            <tr>\n",
       "                                <td id=\"T_6055618c_f0e9_11e9_8c4c_31df63cef5d8row4_col0\" class=\"data row4 col0\" >Peru</td>\n",
       "                        <td id=\"T_6055618c_f0e9_11e9_8c4c_31df63cef5d8row4_col1\" class=\"data row4 col1\" >0.285714</td>\n",
       "            </tr>\n",
       "            <tr>\n",
       "                                <td id=\"T_6055618c_f0e9_11e9_8c4c_31df63cef5d8row5_col0\" class=\"data row5 col0\" >Nigeria</td>\n",
       "                        <td id=\"T_6055618c_f0e9_11e9_8c4c_31df63cef5d8row5_col1\" class=\"data row5 col1\" >0.295421</td>\n",
       "            </tr>\n",
       "            <tr>\n",
       "                                <td id=\"T_6055618c_f0e9_11e9_8c4c_31df63cef5d8row6_col0\" class=\"data row6 col0\" >Colombia</td>\n",
       "                        <td id=\"T_6055618c_f0e9_11e9_8c4c_31df63cef5d8row6_col1\" class=\"data row6 col1\" >0.350877</td>\n",
       "            </tr>\n",
       "            <tr>\n",
       "                                <td id=\"T_6055618c_f0e9_11e9_8c4c_31df63cef5d8row7_col0\" class=\"data row7 col0\" >Lithuania</td>\n",
       "                        <td id=\"T_6055618c_f0e9_11e9_8c4c_31df63cef5d8row7_col1\" class=\"data row7 col1\" >0.409836</td>\n",
       "            </tr>\n",
       "            <tr>\n",
       "                                <td id=\"T_6055618c_f0e9_11e9_8c4c_31df63cef5d8row8_col0\" class=\"data row8 col0\" >Fiji</td>\n",
       "                        <td id=\"T_6055618c_f0e9_11e9_8c4c_31df63cef5d8row8_col1\" class=\"data row8 col1\" >0.507614</td>\n",
       "            </tr>\n",
       "            <tr>\n",
       "                                <td id=\"T_6055618c_f0e9_11e9_8c4c_31df63cef5d8row9_col0\" class=\"data row9 col0\" >Azerbaijan</td>\n",
       "                        <td id=\"T_6055618c_f0e9_11e9_8c4c_31df63cef5d8row9_col1\" class=\"data row9 col1\" >0.558659</td>\n",
       "            </tr>\n",
       "    </tbody></table>"
      ],
      "text/plain": [
       "<pandas.io.formats.style.Styler at 0x7fe4b6985550>"
      ]
     },
     "execution_count": 36,
     "metadata": {},
     "output_type": "execute_result"
    }
   ],
   "source": [
    "# Creates table for bottom 10 countries with at least 1 high quality article by relative quality.\n",
    "(country_data[country_data['high_quality'] != 0]).sort_values(by='high_quality', ascending=True)[['country', 'high_quality']].head(10).style.hide_index()"
   ]
  },
  {
   "cell_type": "code",
   "execution_count": 37,
   "metadata": {},
   "outputs": [
    {
     "data": {
      "text/html": [
       "<div>\n",
       "<style scoped>\n",
       "    .dataframe tbody tr th:only-of-type {\n",
       "        vertical-align: middle;\n",
       "    }\n",
       "\n",
       "    .dataframe tbody tr th {\n",
       "        vertical-align: top;\n",
       "    }\n",
       "\n",
       "    .dataframe thead th {\n",
       "        text-align: right;\n",
       "    }\n",
       "</style>\n",
       "<table border=\"1\" class=\"dataframe\">\n",
       "  <thead>\n",
       "    <tr style=\"text-align: right;\">\n",
       "      <th></th>\n",
       "      <th>country</th>\n",
       "      <th>num_article</th>\n",
       "      <th>population</th>\n",
       "      <th>coverage</th>\n",
       "      <th>B</th>\n",
       "      <th>C</th>\n",
       "      <th>FA</th>\n",
       "      <th>GA</th>\n",
       "      <th>Start</th>\n",
       "      <th>Stub</th>\n",
       "      <th>high_quality</th>\n",
       "      <th>region</th>\n",
       "    </tr>\n",
       "  </thead>\n",
       "  <tbody>\n",
       "    <tr>\n",
       "      <th>16</th>\n",
       "      <td>Belgium</td>\n",
       "      <td>520</td>\n",
       "      <td>11400000.0</td>\n",
       "      <td>0.004561</td>\n",
       "      <td>6.0</td>\n",
       "      <td>24.0</td>\n",
       "      <td>0.0</td>\n",
       "      <td>1.0</td>\n",
       "      <td>171.0</td>\n",
       "      <td>318.0</td>\n",
       "      <td>0.192308</td>\n",
       "      <td>EUROPE</td>\n",
       "    </tr>\n",
       "  </tbody>\n",
       "</table>\n",
       "</div>"
      ],
      "text/plain": [
       "    country  num_article  population  coverage    B     C   FA   GA  Start  \\\n",
       "16  Belgium          520  11400000.0  0.004561  6.0  24.0  0.0  1.0  171.0   \n",
       "\n",
       "     Stub  high_quality  region  \n",
       "16  318.0      0.192308  EUROPE  "
      ]
     },
     "execution_count": 37,
     "metadata": {},
     "output_type": "execute_result"
    }
   ],
   "source": [
    "# Checks on the row pertaining Belgium.\n",
    "country_data[country_data['country'] == 'Belgium']"
   ]
  },
  {
   "cell_type": "markdown",
   "metadata": {},
   "source": [
    "#### Geographic regions by coverage\n",
    "##### \"Ranking of geographic regions (in descending order) in terms of the total count of politician articles from countries in each region as a proportion of total regional population.\""
   ]
  },
  {
   "cell_type": "code",
   "execution_count": 38,
   "metadata": {},
   "outputs": [
    {
     "data": {
      "text/html": [
       "<style  type=\"text/css\" >\n",
       "</style><table id=\"T_606e1286_f0e9_11e9_8c4c_31df63cef5d8\" ><thead>    <tr>        <th class=\"col_heading level0 col0\" >region</th>        <th class=\"col_heading level0 col1\" >coverage</th>    </tr></thead><tbody>\n",
       "                <tr>\n",
       "                                <td id=\"T_606e1286_f0e9_11e9_8c4c_31df63cef5d8row0_col0\" class=\"data row0 col0\" >OCEANIA</td>\n",
       "                        <td id=\"T_606e1286_f0e9_11e9_8c4c_31df63cef5d8row0_col1\" class=\"data row0 col1\" >0.00786325</td>\n",
       "            </tr>\n",
       "            <tr>\n",
       "                                <td id=\"T_606e1286_f0e9_11e9_8c4c_31df63cef5d8row1_col0\" class=\"data row1 col0\" >EUROPE</td>\n",
       "                        <td id=\"T_606e1286_f0e9_11e9_8c4c_31df63cef5d8row1_col1\" class=\"data row1 col1\" >0.00215957</td>\n",
       "            </tr>\n",
       "            <tr>\n",
       "                                <td id=\"T_606e1286_f0e9_11e9_8c4c_31df63cef5d8row2_col0\" class=\"data row2 col0\" >LATIN AMERICA AND THE CARIBBEAN</td>\n",
       "                        <td id=\"T_606e1286_f0e9_11e9_8c4c_31df63cef5d8row2_col1\" class=\"data row2 col1\" >0.000822735</td>\n",
       "            </tr>\n",
       "            <tr>\n",
       "                                <td id=\"T_606e1286_f0e9_11e9_8c4c_31df63cef5d8row3_col0\" class=\"data row3 col0\" >AFRICA</td>\n",
       "                        <td id=\"T_606e1286_f0e9_11e9_8c4c_31df63cef5d8row3_col1\" class=\"data row3 col1\" >0.000584357</td>\n",
       "            </tr>\n",
       "            <tr>\n",
       "                                <td id=\"T_606e1286_f0e9_11e9_8c4c_31df63cef5d8row4_col0\" class=\"data row4 col0\" >NORTHERN AMERICA</td>\n",
       "                        <td id=\"T_606e1286_f0e9_11e9_8c4c_31df63cef5d8row4_col1\" class=\"data row4 col1\" >0.000526013</td>\n",
       "            </tr>\n",
       "            <tr>\n",
       "                                <td id=\"T_606e1286_f0e9_11e9_8c4c_31df63cef5d8row5_col0\" class=\"data row5 col0\" >ASIA</td>\n",
       "                        <td id=\"T_606e1286_f0e9_11e9_8c4c_31df63cef5d8row5_col1\" class=\"data row5 col1\" >0.000255501</td>\n",
       "            </tr>\n",
       "    </tbody></table>"
      ],
      "text/plain": [
       "<pandas.io.formats.style.Styler at 0x7fe4b31a00b8>"
      ]
     },
     "execution_count": 38,
     "metadata": {},
     "output_type": "execute_result"
    }
   ],
   "source": [
    "# Creates table for the regions by coverage.\n",
    "region_data.sort_values(by='coverage', ascending=False)[['region', 'coverage']].style.hide_index()"
   ]
  },
  {
   "cell_type": "markdown",
   "metadata": {},
   "source": [
    "#### Geographic regions by relative quality\n",
    "##### \"Ranking of geographic regions (in descending order) in terms of the relative proportion of politician articles from countries in each region that are of GA and FA-quality.\""
   ]
  },
  {
   "cell_type": "code",
   "execution_count": 39,
   "metadata": {},
   "outputs": [
    {
     "data": {
      "text/html": [
       "<style  type=\"text/css\" >\n",
       "</style><table id=\"T_607384a0_f0e9_11e9_8c4c_31df63cef5d8\" ><thead>    <tr>        <th class=\"col_heading level0 col0\" >region</th>        <th class=\"col_heading level0 col1\" >high_quality</th>    </tr></thead><tbody>\n",
       "                <tr>\n",
       "                                <td id=\"T_607384a0_f0e9_11e9_8c4c_31df63cef5d8row0_col0\" class=\"data row0 col0\" >NORTHERN AMERICA</td>\n",
       "                        <td id=\"T_607384a0_f0e9_11e9_8c4c_31df63cef5d8row0_col1\" class=\"data row0 col1\" >5.15357</td>\n",
       "            </tr>\n",
       "            <tr>\n",
       "                                <td id=\"T_607384a0_f0e9_11e9_8c4c_31df63cef5d8row1_col0\" class=\"data row1 col0\" >ASIA</td>\n",
       "                        <td id=\"T_607384a0_f0e9_11e9_8c4c_31df63cef5d8row1_col1\" class=\"data row1 col1\" >2.68841</td>\n",
       "            </tr>\n",
       "            <tr>\n",
       "                                <td id=\"T_607384a0_f0e9_11e9_8c4c_31df63cef5d8row2_col0\" class=\"data row2 col0\" >OCEANIA</td>\n",
       "                        <td id=\"T_607384a0_f0e9_11e9_8c4c_31df63cef5d8row2_col1\" class=\"data row2 col1\" >2.10997</td>\n",
       "            </tr>\n",
       "            <tr>\n",
       "                                <td id=\"T_607384a0_f0e9_11e9_8c4c_31df63cef5d8row3_col0\" class=\"data row3 col0\" >EUROPE</td>\n",
       "                        <td id=\"T_607384a0_f0e9_11e9_8c4c_31df63cef5d8row3_col1\" class=\"data row3 col1\" >2.02975</td>\n",
       "            </tr>\n",
       "            <tr>\n",
       "                                <td id=\"T_607384a0_f0e9_11e9_8c4c_31df63cef5d8row4_col0\" class=\"data row4 col0\" >AFRICA</td>\n",
       "                        <td id=\"T_607384a0_f0e9_11e9_8c4c_31df63cef5d8row4_col1\" class=\"data row4 col1\" >1.82455</td>\n",
       "            </tr>\n",
       "            <tr>\n",
       "                                <td id=\"T_607384a0_f0e9_11e9_8c4c_31df63cef5d8row5_col0\" class=\"data row5 col0\" >LATIN AMERICA AND THE CARIBBEAN</td>\n",
       "                        <td id=\"T_607384a0_f0e9_11e9_8c4c_31df63cef5d8row5_col1\" class=\"data row5 col1\" >1.33488</td>\n",
       "            </tr>\n",
       "    </tbody></table>"
      ],
      "text/plain": [
       "<pandas.io.formats.style.Styler at 0x7fe4b31a0ac8>"
      ]
     },
     "execution_count": 39,
     "metadata": {},
     "output_type": "execute_result"
    }
   ],
   "source": [
    "# Creates table for the regions by relative quality.\n",
    "region_data.sort_values(by='high_quality', ascending=False)[['region', 'high_quality']].style.hide_index()"
   ]
  },
  {
   "cell_type": "markdown",
   "metadata": {},
   "source": [
    " "
   ]
  },
  {
   "cell_type": "markdown",
   "metadata": {},
   "source": [
    " "
   ]
  },
  {
   "cell_type": "markdown",
   "metadata": {},
   "source": [
    "### Reflections"
   ]
  },
  {
   "cell_type": "markdown",
   "metadata": {},
   "source": [
    "Before starting to work on the data, I expected articles from developing countries, and non-democratic countries to receive a high amount of low scores in the predictions. This is because I suspected that articles from developing countries would be less regulated, partly due to the population's inability to access the internet. In addition, countries like China and North Korea could censor or edit articles in order to promote their political agendas. One example of how my preconceptions were challenged is the fact that North Korea is ranked first in the list of top 10 countries with high-quality articles. It could be explained by the fact that there are a few number of articles related to North Korea, or that other entities or organizations took it upon themselves to write the articles, since it cannot be expected for residents in North Korea to write or edit articles on the English Wikipedia website.\n",
    "\n",
    "The results suggest that Wikipedia is not that really as a data source when it comes to political articles. This might be because anyone can edit Wikipedia, and there could be several political parties trying to improve their standing on the internet by editing Wikipedia articles. While we assume that the data of the classifications made by people is correct, there is a chance that they could also introduce bias in the predictive model by classifying an article they do not agree with as a low quality article. And lastly, further testing should be done regarding the quality of Wikipedia articles by choosing a different subject, such as science, where the information is more factual. While it was disheartening to see that Wikipedia has a low percentage of high quality articles, the fact that low value is present in articles related to every country and region gives us a warning to always be on the lookout for bias since, as the results show, is everywhere.\n",
    "\n",
    "For further work, it would be interesting to use another classifier built by different people to see if the predictions are accurate, and if not, could the bias be in the classification of the articles during the training phase? It would also be interesting if the datasets had more features, such as the political teams for each country and for each article and the percentage of their representation in the government. Looking into the correlation between coverage and the percentage of high-quality articles also seems like a promising path for future work.\n"
   ]
  },
  {
   "cell_type": "markdown",
   "metadata": {},
   "source": [
    " "
   ]
  },
  {
   "cell_type": "markdown",
   "metadata": {},
   "source": [
    "Table subtitles obtained from: https://wiki.communitydata.science/Human_Centered_Data_Science_(Fall_2019)/Assignments#A2:_Bias_in_data"
   ]
  }
 ],
 "metadata": {
  "kernelspec": {
   "display_name": "Python 3",
   "language": "python",
   "name": "python3"
  },
  "language_info": {
   "codemirror_mode": {
    "name": "ipython",
    "version": 3
   },
   "file_extension": ".py",
   "mimetype": "text/x-python",
   "name": "python",
   "nbconvert_exporter": "python",
   "pygments_lexer": "ipython3",
   "version": "3.7.3"
  }
 },
 "nbformat": 4,
 "nbformat_minor": 2
}
